{
 "cells": [
  {
   "attachments": {},
   "cell_type": "markdown",
   "id": "79043796",
   "metadata": {},
   "source": [
    "# Зачет по МФК Математическая статистика и анализ данных\n",
    "Исполнитель: Вакшин Александр (ВМК, 1 курс, 101 группа)\n",
    "\n",
    "В нашем распоряжении датасет, содержащий информацию о совершенных внутренних авиарейсах из аэропортов Нью-Йорка в 2013 году. Наша задача – исследовать статистику задержек авиарейсов на основе предложенных ниже вопросов."
   ]
  },
  {
   "cell_type": "markdown",
   "id": "7b5dbdf8",
   "metadata": {},
   "source": [
    "Описание датасета\n",
    "\n",
    "Датасет представлен файлом csv, в котором 336 776 строк и 13 столбцов, содержащих\n",
    "- year, month, day: date of departure;\n",
    "- dep_time, arr_time: actual departure and arrival times (format HHMM or HMM), local timezone;\n",
    "- dep_delay, arr_delay: departure and arrival delays, in minutes. Negative times represent early departures/arrivals;\n",
    "- carrier: two letter carrier abbreviation;\n",
    "- flight: flight number;\n",
    "- tailnum: plane tail number;\n",
    "- origin, dest: origin and destination airports;\n",
    "- distance: distance between origin and destination airports.\n",
    "\n",
    "(Справочно) Аббревиатуры аэропортов Нью-Йорка:\n",
    "- JFK – John F. Kennedy International Airport;\n",
    "- LGA – LaGuardia Airport;\n",
    "- EWR – Newark International Airport.\n"
   ]
  },
  {
   "cell_type": "code",
   "execution_count": 58,
   "id": "d3b10625",
   "metadata": {},
   "outputs": [],
   "source": [
    "# Импортируем библиотеки\n",
    "import pandas as pd\n",
    "import numpy as np\n",
    "import matplotlib.pyplot as plt\n",
    "from scipy.stats import norm, expon\n",
    "import matplotlib as mpl\n",
    "from scipy import stats\n",
    "\n",
    "mpl.rcParams['figure.figsize'] = (12, 6)\n",
    "mpl.rcParams['figure.dpi'] = 80"
   ]
  },
  {
   "cell_type": "code",
   "execution_count": 59,
   "id": "0e9fcf8f",
   "metadata": {},
   "outputs": [
    {
     "data": {
      "text/html": [
       "<div>\n",
       "<style scoped>\n",
       "    .dataframe tbody tr th:only-of-type {\n",
       "        vertical-align: middle;\n",
       "    }\n",
       "\n",
       "    .dataframe tbody tr th {\n",
       "        vertical-align: top;\n",
       "    }\n",
       "\n",
       "    .dataframe thead th {\n",
       "        text-align: right;\n",
       "    }\n",
       "</style>\n",
       "<table border=\"1\" class=\"dataframe\">\n",
       "  <thead>\n",
       "    <tr style=\"text-align: right;\">\n",
       "      <th></th>\n",
       "      <th>year</th>\n",
       "      <th>month</th>\n",
       "      <th>day</th>\n",
       "      <th>dep_time</th>\n",
       "      <th>dep_delay</th>\n",
       "      <th>arr_time</th>\n",
       "      <th>arr_delay</th>\n",
       "      <th>carrier</th>\n",
       "      <th>tailnum</th>\n",
       "      <th>flight</th>\n",
       "      <th>origin</th>\n",
       "      <th>dest</th>\n",
       "      <th>air_time</th>\n",
       "      <th>distance</th>\n",
       "    </tr>\n",
       "  </thead>\n",
       "  <tbody>\n",
       "    <tr>\n",
       "      <th>0</th>\n",
       "      <td>2013</td>\n",
       "      <td>1</td>\n",
       "      <td>1</td>\n",
       "      <td>517.0</td>\n",
       "      <td>2.0</td>\n",
       "      <td>830.0</td>\n",
       "      <td>11.0</td>\n",
       "      <td>UA</td>\n",
       "      <td>N14228</td>\n",
       "      <td>1545</td>\n",
       "      <td>EWR</td>\n",
       "      <td>IAH</td>\n",
       "      <td>227.0</td>\n",
       "      <td>1400</td>\n",
       "    </tr>\n",
       "    <tr>\n",
       "      <th>1</th>\n",
       "      <td>2013</td>\n",
       "      <td>1</td>\n",
       "      <td>1</td>\n",
       "      <td>533.0</td>\n",
       "      <td>4.0</td>\n",
       "      <td>850.0</td>\n",
       "      <td>20.0</td>\n",
       "      <td>UA</td>\n",
       "      <td>N24211</td>\n",
       "      <td>1714</td>\n",
       "      <td>LGA</td>\n",
       "      <td>IAH</td>\n",
       "      <td>227.0</td>\n",
       "      <td>1416</td>\n",
       "    </tr>\n",
       "    <tr>\n",
       "      <th>2</th>\n",
       "      <td>2013</td>\n",
       "      <td>1</td>\n",
       "      <td>1</td>\n",
       "      <td>542.0</td>\n",
       "      <td>2.0</td>\n",
       "      <td>923.0</td>\n",
       "      <td>33.0</td>\n",
       "      <td>AA</td>\n",
       "      <td>N619AA</td>\n",
       "      <td>1141</td>\n",
       "      <td>JFK</td>\n",
       "      <td>MIA</td>\n",
       "      <td>160.0</td>\n",
       "      <td>1089</td>\n",
       "    </tr>\n",
       "    <tr>\n",
       "      <th>3</th>\n",
       "      <td>2013</td>\n",
       "      <td>1</td>\n",
       "      <td>1</td>\n",
       "      <td>544.0</td>\n",
       "      <td>-1.0</td>\n",
       "      <td>1004.0</td>\n",
       "      <td>-18.0</td>\n",
       "      <td>B6</td>\n",
       "      <td>N804JB</td>\n",
       "      <td>725</td>\n",
       "      <td>JFK</td>\n",
       "      <td>BQN</td>\n",
       "      <td>183.0</td>\n",
       "      <td>1576</td>\n",
       "    </tr>\n",
       "    <tr>\n",
       "      <th>4</th>\n",
       "      <td>2013</td>\n",
       "      <td>1</td>\n",
       "      <td>1</td>\n",
       "      <td>554.0</td>\n",
       "      <td>-6.0</td>\n",
       "      <td>812.0</td>\n",
       "      <td>-25.0</td>\n",
       "      <td>DL</td>\n",
       "      <td>N668DN</td>\n",
       "      <td>461</td>\n",
       "      <td>LGA</td>\n",
       "      <td>ATL</td>\n",
       "      <td>116.0</td>\n",
       "      <td>762</td>\n",
       "    </tr>\n",
       "  </tbody>\n",
       "</table>\n",
       "</div>"
      ],
      "text/plain": [
       "   year  month  day  dep_time  dep_delay  arr_time  arr_delay carrier tailnum   \n",
       "0  2013      1    1     517.0        2.0     830.0       11.0      UA  N14228  \\\n",
       "1  2013      1    1     533.0        4.0     850.0       20.0      UA  N24211   \n",
       "2  2013      1    1     542.0        2.0     923.0       33.0      AA  N619AA   \n",
       "3  2013      1    1     544.0       -1.0    1004.0      -18.0      B6  N804JB   \n",
       "4  2013      1    1     554.0       -6.0     812.0      -25.0      DL  N668DN   \n",
       "\n",
       "   flight origin dest  air_time  distance  \n",
       "0    1545    EWR  IAH     227.0      1400  \n",
       "1    1714    LGA  IAH     227.0      1416  \n",
       "2    1141    JFK  MIA     160.0      1089  \n",
       "3     725    JFK  BQN     183.0      1576  \n",
       "4     461    LGA  ATL     116.0       762  "
      ]
     },
     "execution_count": 59,
     "metadata": {},
     "output_type": "execute_result"
    }
   ],
   "source": [
    "# Загружаем данные\n",
    "df = pd.read_csv('flights_NY.csv')\n",
    "df.head()"
   ]
  },
  {
   "cell_type": "markdown",
   "id": "835704fa",
   "metadata": {},
   "source": [
    "# Задание 1"
   ]
  },
  {
   "cell_type": "markdown",
   "id": "bc3007c5",
   "metadata": {},
   "source": [
    "1. В каких колонках есть пропущенные значения? Сколько строк, в которых есть хотя бы одно пропущенное значение? Есть ли какая-то особенность в тех рейсах, в которых есть пропущенные значения? Удалите строки, в которых есть хотя бы одно пропущенное значение из дальнейшего анализа."
   ]
  },
  {
   "cell_type": "code",
   "execution_count": 60,
   "id": "b2686d3d",
   "metadata": {},
   "outputs": [
    {
     "data": {
      "text/plain": [
       "year            0\n",
       "month           0\n",
       "day             0\n",
       "dep_time     8255\n",
       "dep_delay    8255\n",
       "arr_time     8713\n",
       "arr_delay    9430\n",
       "carrier         0\n",
       "tailnum      2512\n",
       "flight          0\n",
       "origin          0\n",
       "dest            0\n",
       "air_time     9430\n",
       "distance        0\n",
       "dtype: int64"
      ]
     },
     "execution_count": 60,
     "metadata": {},
     "output_type": "execute_result"
    }
   ],
   "source": [
    "# Колонки, в которых пропущены значения\n",
    "df.isna().sum()"
   ]
  },
  {
   "cell_type": "code",
   "execution_count": 61,
   "id": "1dcfd0ab",
   "metadata": {},
   "outputs": [
    {
     "data": {
      "text/html": [
       "<div>\n",
       "<style scoped>\n",
       "    .dataframe tbody tr th:only-of-type {\n",
       "        vertical-align: middle;\n",
       "    }\n",
       "\n",
       "    .dataframe tbody tr th {\n",
       "        vertical-align: top;\n",
       "    }\n",
       "\n",
       "    .dataframe thead th {\n",
       "        text-align: right;\n",
       "    }\n",
       "</style>\n",
       "<table border=\"1\" class=\"dataframe\">\n",
       "  <thead>\n",
       "    <tr style=\"text-align: right;\">\n",
       "      <th></th>\n",
       "      <th>year</th>\n",
       "      <th>month</th>\n",
       "      <th>day</th>\n",
       "      <th>dep_time</th>\n",
       "      <th>dep_delay</th>\n",
       "      <th>arr_time</th>\n",
       "      <th>arr_delay</th>\n",
       "      <th>carrier</th>\n",
       "      <th>tailnum</th>\n",
       "      <th>flight</th>\n",
       "      <th>origin</th>\n",
       "      <th>dest</th>\n",
       "      <th>air_time</th>\n",
       "      <th>distance</th>\n",
       "    </tr>\n",
       "  </thead>\n",
       "  <tbody>\n",
       "    <tr>\n",
       "      <th>471</th>\n",
       "      <td>2013</td>\n",
       "      <td>1</td>\n",
       "      <td>1</td>\n",
       "      <td>1525.0</td>\n",
       "      <td>-5.0</td>\n",
       "      <td>1934.0</td>\n",
       "      <td>NaN</td>\n",
       "      <td>MQ</td>\n",
       "      <td>N719MQ</td>\n",
       "      <td>4525</td>\n",
       "      <td>LGA</td>\n",
       "      <td>XNA</td>\n",
       "      <td>NaN</td>\n",
       "      <td>1147</td>\n",
       "    </tr>\n",
       "    <tr>\n",
       "      <th>477</th>\n",
       "      <td>2013</td>\n",
       "      <td>1</td>\n",
       "      <td>1</td>\n",
       "      <td>1528.0</td>\n",
       "      <td>29.0</td>\n",
       "      <td>2002.0</td>\n",
       "      <td>NaN</td>\n",
       "      <td>EV</td>\n",
       "      <td>N17108</td>\n",
       "      <td>3806</td>\n",
       "      <td>EWR</td>\n",
       "      <td>STL</td>\n",
       "      <td>NaN</td>\n",
       "      <td>872</td>\n",
       "    </tr>\n",
       "    <tr>\n",
       "      <th>615</th>\n",
       "      <td>2013</td>\n",
       "      <td>1</td>\n",
       "      <td>1</td>\n",
       "      <td>1740.0</td>\n",
       "      <td>-5.0</td>\n",
       "      <td>2158.0</td>\n",
       "      <td>NaN</td>\n",
       "      <td>MQ</td>\n",
       "      <td>N739MQ</td>\n",
       "      <td>4413</td>\n",
       "      <td>LGA</td>\n",
       "      <td>XNA</td>\n",
       "      <td>NaN</td>\n",
       "      <td>1147</td>\n",
       "    </tr>\n",
       "    <tr>\n",
       "      <th>643</th>\n",
       "      <td>2013</td>\n",
       "      <td>1</td>\n",
       "      <td>1</td>\n",
       "      <td>1807.0</td>\n",
       "      <td>29.0</td>\n",
       "      <td>2251.0</td>\n",
       "      <td>NaN</td>\n",
       "      <td>UA</td>\n",
       "      <td>N31412</td>\n",
       "      <td>1228</td>\n",
       "      <td>EWR</td>\n",
       "      <td>SAN</td>\n",
       "      <td>NaN</td>\n",
       "      <td>2425</td>\n",
       "    </tr>\n",
       "    <tr>\n",
       "      <th>725</th>\n",
       "      <td>2013</td>\n",
       "      <td>1</td>\n",
       "      <td>1</td>\n",
       "      <td>1939.0</td>\n",
       "      <td>59.0</td>\n",
       "      <td>29.0</td>\n",
       "      <td>NaN</td>\n",
       "      <td>9E</td>\n",
       "      <td>N905XJ</td>\n",
       "      <td>3325</td>\n",
       "      <td>JFK</td>\n",
       "      <td>DFW</td>\n",
       "      <td>NaN</td>\n",
       "      <td>1391</td>\n",
       "    </tr>\n",
       "    <tr>\n",
       "      <th>...</th>\n",
       "      <td>...</td>\n",
       "      <td>...</td>\n",
       "      <td>...</td>\n",
       "      <td>...</td>\n",
       "      <td>...</td>\n",
       "      <td>...</td>\n",
       "      <td>...</td>\n",
       "      <td>...</td>\n",
       "      <td>...</td>\n",
       "      <td>...</td>\n",
       "      <td>...</td>\n",
       "      <td>...</td>\n",
       "      <td>...</td>\n",
       "      <td>...</td>\n",
       "    </tr>\n",
       "    <tr>\n",
       "      <th>336771</th>\n",
       "      <td>2013</td>\n",
       "      <td>9</td>\n",
       "      <td>30</td>\n",
       "      <td>NaN</td>\n",
       "      <td>NaN</td>\n",
       "      <td>NaN</td>\n",
       "      <td>NaN</td>\n",
       "      <td>9E</td>\n",
       "      <td>NaN</td>\n",
       "      <td>3393</td>\n",
       "      <td>JFK</td>\n",
       "      <td>DCA</td>\n",
       "      <td>NaN</td>\n",
       "      <td>213</td>\n",
       "    </tr>\n",
       "    <tr>\n",
       "      <th>336772</th>\n",
       "      <td>2013</td>\n",
       "      <td>9</td>\n",
       "      <td>30</td>\n",
       "      <td>NaN</td>\n",
       "      <td>NaN</td>\n",
       "      <td>NaN</td>\n",
       "      <td>NaN</td>\n",
       "      <td>9E</td>\n",
       "      <td>NaN</td>\n",
       "      <td>3525</td>\n",
       "      <td>LGA</td>\n",
       "      <td>SYR</td>\n",
       "      <td>NaN</td>\n",
       "      <td>198</td>\n",
       "    </tr>\n",
       "    <tr>\n",
       "      <th>336773</th>\n",
       "      <td>2013</td>\n",
       "      <td>9</td>\n",
       "      <td>30</td>\n",
       "      <td>NaN</td>\n",
       "      <td>NaN</td>\n",
       "      <td>NaN</td>\n",
       "      <td>NaN</td>\n",
       "      <td>MQ</td>\n",
       "      <td>N535MQ</td>\n",
       "      <td>3461</td>\n",
       "      <td>LGA</td>\n",
       "      <td>BNA</td>\n",
       "      <td>NaN</td>\n",
       "      <td>764</td>\n",
       "    </tr>\n",
       "    <tr>\n",
       "      <th>336774</th>\n",
       "      <td>2013</td>\n",
       "      <td>9</td>\n",
       "      <td>30</td>\n",
       "      <td>NaN</td>\n",
       "      <td>NaN</td>\n",
       "      <td>NaN</td>\n",
       "      <td>NaN</td>\n",
       "      <td>MQ</td>\n",
       "      <td>N511MQ</td>\n",
       "      <td>3572</td>\n",
       "      <td>LGA</td>\n",
       "      <td>CLE</td>\n",
       "      <td>NaN</td>\n",
       "      <td>419</td>\n",
       "    </tr>\n",
       "    <tr>\n",
       "      <th>336775</th>\n",
       "      <td>2013</td>\n",
       "      <td>9</td>\n",
       "      <td>30</td>\n",
       "      <td>NaN</td>\n",
       "      <td>NaN</td>\n",
       "      <td>NaN</td>\n",
       "      <td>NaN</td>\n",
       "      <td>MQ</td>\n",
       "      <td>N839MQ</td>\n",
       "      <td>3531</td>\n",
       "      <td>LGA</td>\n",
       "      <td>RDU</td>\n",
       "      <td>NaN</td>\n",
       "      <td>431</td>\n",
       "    </tr>\n",
       "  </tbody>\n",
       "</table>\n",
       "<p>9430 rows × 14 columns</p>\n",
       "</div>"
      ],
      "text/plain": [
       "        year  month  day  dep_time  dep_delay  arr_time  arr_delay carrier   \n",
       "471     2013      1    1    1525.0       -5.0    1934.0        NaN      MQ  \\\n",
       "477     2013      1    1    1528.0       29.0    2002.0        NaN      EV   \n",
       "615     2013      1    1    1740.0       -5.0    2158.0        NaN      MQ   \n",
       "643     2013      1    1    1807.0       29.0    2251.0        NaN      UA   \n",
       "725     2013      1    1    1939.0       59.0      29.0        NaN      9E   \n",
       "...      ...    ...  ...       ...        ...       ...        ...     ...   \n",
       "336771  2013      9   30       NaN        NaN       NaN        NaN      9E   \n",
       "336772  2013      9   30       NaN        NaN       NaN        NaN      9E   \n",
       "336773  2013      9   30       NaN        NaN       NaN        NaN      MQ   \n",
       "336774  2013      9   30       NaN        NaN       NaN        NaN      MQ   \n",
       "336775  2013      9   30       NaN        NaN       NaN        NaN      MQ   \n",
       "\n",
       "       tailnum  flight origin dest  air_time  distance  \n",
       "471     N719MQ    4525    LGA  XNA       NaN      1147  \n",
       "477     N17108    3806    EWR  STL       NaN       872  \n",
       "615     N739MQ    4413    LGA  XNA       NaN      1147  \n",
       "643     N31412    1228    EWR  SAN       NaN      2425  \n",
       "725     N905XJ    3325    JFK  DFW       NaN      1391  \n",
       "...        ...     ...    ...  ...       ...       ...  \n",
       "336771     NaN    3393    JFK  DCA       NaN       213  \n",
       "336772     NaN    3525    LGA  SYR       NaN       198  \n",
       "336773  N535MQ    3461    LGA  BNA       NaN       764  \n",
       "336774  N511MQ    3572    LGA  CLE       NaN       419  \n",
       "336775  N839MQ    3531    LGA  RDU       NaN       431  \n",
       "\n",
       "[9430 rows x 14 columns]"
      ]
     },
     "execution_count": 61,
     "metadata": {},
     "output_type": "execute_result"
    }
   ],
   "source": [
    "# Строки, в которых есть хотя бы одно пропущенное значение\n",
    "df[df.isna().any(axis=1)]"
   ]
  },
  {
   "cell_type": "markdown",
   "id": "566bb8e4",
   "metadata": {},
   "source": [
    "9430 строк, где пропущено хотя бы одно значение."
   ]
  },
  {
   "cell_type": "code",
   "execution_count": 62,
   "id": "19dca078",
   "metadata": {},
   "outputs": [
    {
     "data": {
      "text/plain": [
       "year            0\n",
       "month           0\n",
       "day             0\n",
       "dep_time     8255\n",
       "dep_delay    8255\n",
       "arr_time     8713\n",
       "arr_delay    9430\n",
       "carrier         0\n",
       "tailnum      2512\n",
       "flight          0\n",
       "origin          0\n",
       "dest            0\n",
       "air_time     9430\n",
       "distance        0\n",
       "dtype: int64"
      ]
     },
     "execution_count": 62,
     "metadata": {},
     "output_type": "execute_result"
    }
   ],
   "source": [
    "df.isna().sum()"
   ]
  },
  {
   "attachments": {},
   "cell_type": "markdown",
   "id": "96ac3de8",
   "metadata": {},
   "source": [
    "Особенность в рейсах, в которых есть пропущенные значения:\n",
    "\n",
    "Все эти строки имеют пропуски в столбце  air_time, значит, эти рейсы, скорее всего, были отменены."
   ]
  },
  {
   "cell_type": "code",
   "execution_count": 63,
   "id": "769b48e8",
   "metadata": {},
   "outputs": [],
   "source": [
    "#Удаляем строки с пропусками\n",
    "df = df.dropna()"
   ]
  },
  {
   "cell_type": "markdown",
   "id": "e1ff544a",
   "metadata": {},
   "source": [
    "# Задание 2"
   ]
  },
  {
   "cell_type": "markdown",
   "id": "07fb3ffa",
   "metadata": {},
   "source": [
    "2. Постройте в одних осях нормированные гистограммы времени задержки вылета и прилета. Ограничьте диапазон построения гистограмм, чтобы избавиться от выбросов, и опишите характер выбросов (количество и значения). Есть ли другие особенности в полученных распределениях?"
   ]
  },
  {
   "cell_type": "code",
   "execution_count": 64,
   "id": "36a4ed7e",
   "metadata": {},
   "outputs": [
    {
     "data": {
      "image/png": "[encoded data removed]",
      "text/plain": [
       "<Figure size 960x480 with 1 Axes>"
      ]
     },
     "metadata": {},
     "output_type": "display_data"
    }
   ],
   "source": [
    "# Построим в одних осях нормированные гистограммы времени задержки вылета и прилета\n",
    "plt.hist(df.dep_delay, bins=200, density=True, range = (-100, 120),  alpha=0.5, label='Delay in Departure')\n",
    "plt.hist(df.arr_delay, bins=200, density=True, range = (-100, 120), alpha=0.5, label='Delay in Arrival')\n",
    "plt.legend(loc='upper right')\n",
    "plt.xlabel('Delay (minutes)')\n",
    "plt.ylabel('Density')\n",
    "plt.title('Delay Distribution in Departure and Arrival')\n",
    "plt.show()"
   ]
  },
  {
   "cell_type": "code",
   "execution_count": 65,
   "id": "489e7332",
   "metadata": {},
   "outputs": [
    {
     "name": "stdout",
     "output_type": "stream",
     "text": [
      "Количество выбросов во времени задержки отправления 9597\n",
      "Количество выбросов во времени задержки прилета 10034\n"
     ]
    }
   ],
   "source": [
    "# Количество выбросов\n",
    "print('Количество выбросов во времени задержки отправления',(df.dep_delay>120).sum())\n",
    "print('Количество выбросов во времени задержки прилета',(df.arr_delay>120).sum())"
   ]
  },
  {
   "attachments": {},
   "cell_type": "markdown",
   "id": "082542f1",
   "metadata": {},
   "source": [
    "Опишем характер выбросов и другие особенности в полученных распределениях:\n",
    "\n",
    "Распределения времени задержек прилета и вылета с правосторонней асимметрией. Есть выбросы с экстремально большими значениями. Все, что больше 120 минут, будем считать выбросами. \n",
    "Время задержки прилета более симметричное, то есть самолеты достаточно часто прилетают раньше."
   ]
  },
  {
   "cell_type": "markdown",
   "id": "d2a402aa",
   "metadata": {},
   "source": [
    "# Задание 3"
   ]
  },
  {
   "cell_type": "markdown",
   "id": "b25f6800",
   "metadata": {},
   "source": [
    "3. Оцените среднее значение, медиану и величину стандартного отклонения для времени задержки вылета и времени задержки прилета."
   ]
  },
  {
   "cell_type": "code",
   "execution_count": 66,
   "id": "75408a7d",
   "metadata": {},
   "outputs": [
    {
     "data": {
      "text/html": [
       "<div>\n",
       "<style scoped>\n",
       "    .dataframe tbody tr th:only-of-type {\n",
       "        vertical-align: middle;\n",
       "    }\n",
       "\n",
       "    .dataframe tbody tr th {\n",
       "        vertical-align: top;\n",
       "    }\n",
       "\n",
       "    .dataframe thead th {\n",
       "        text-align: right;\n",
       "    }\n",
       "</style>\n",
       "<table border=\"1\" class=\"dataframe\">\n",
       "  <thead>\n",
       "    <tr style=\"text-align: right;\">\n",
       "      <th></th>\n",
       "      <th>dep_delay</th>\n",
       "      <th>arr_delay</th>\n",
       "    </tr>\n",
       "  </thead>\n",
       "  <tbody>\n",
       "    <tr>\n",
       "      <th>count</th>\n",
       "      <td>327346.000000</td>\n",
       "      <td>327346.000000</td>\n",
       "    </tr>\n",
       "    <tr>\n",
       "      <th>mean</th>\n",
       "      <td>12.555156</td>\n",
       "      <td>6.895377</td>\n",
       "    </tr>\n",
       "    <tr>\n",
       "      <th>std</th>\n",
       "      <td>40.065688</td>\n",
       "      <td>44.633292</td>\n",
       "    </tr>\n",
       "    <tr>\n",
       "      <th>min</th>\n",
       "      <td>-43.000000</td>\n",
       "      <td>-86.000000</td>\n",
       "    </tr>\n",
       "    <tr>\n",
       "      <th>25%</th>\n",
       "      <td>-5.000000</td>\n",
       "      <td>-17.000000</td>\n",
       "    </tr>\n",
       "    <tr>\n",
       "      <th>50%</th>\n",
       "      <td>-2.000000</td>\n",
       "      <td>-5.000000</td>\n",
       "    </tr>\n",
       "    <tr>\n",
       "      <th>75%</th>\n",
       "      <td>11.000000</td>\n",
       "      <td>14.000000</td>\n",
       "    </tr>\n",
       "    <tr>\n",
       "      <th>max</th>\n",
       "      <td>1301.000000</td>\n",
       "      <td>1272.000000</td>\n",
       "    </tr>\n",
       "  </tbody>\n",
       "</table>\n",
       "</div>"
      ],
      "text/plain": [
       "           dep_delay      arr_delay\n",
       "count  327346.000000  327346.000000\n",
       "mean       12.555156       6.895377\n",
       "std        40.065688      44.633292\n",
       "min       -43.000000     -86.000000\n",
       "25%        -5.000000     -17.000000\n",
       "50%        -2.000000      -5.000000\n",
       "75%        11.000000      14.000000\n",
       "max      1301.000000    1272.000000"
      ]
     },
     "execution_count": 66,
     "metadata": {},
     "output_type": "execute_result"
    }
   ],
   "source": [
    "df[['dep_delay', 'arr_delay']].describe()"
   ]
  },
  {
   "attachments": {},
   "cell_type": "markdown",
   "id": "5532514f",
   "metadata": {},
   "source": [
    "dep_delay (время задержки вылета):\n",
    "- среднее значение: 12.6 мин\n",
    "- медиана: -2 мин\n",
    "- стандартное отклонение: 40.1 мин\n",
    "\n",
    "arr_delay (время задержки прилета):\n",
    "- среднее значение: 6.9 мин\n",
    "- медиана: -5 мин\n",
    "- стандартное отклонение: 44.6 мин"
   ]
  },
  {
   "cell_type": "markdown",
   "id": "c8ce99d2",
   "metadata": {},
   "source": [
    "# Задание 4"
   ]
  },
  {
   "cell_type": "markdown",
   "id": "83d47f9f",
   "metadata": {},
   "source": [
    "4. Отсортируйте авиакомпании по величине средней задержки вылета и приведите среднюю задержку вылета вместе с 95%-доверительным интервалом по каждой авиакомпании. Результат представьте в виде графика."
   ]
  },
  {
   "cell_type": "code",
   "execution_count": 67,
   "id": "949503e6",
   "metadata": {},
   "outputs": [
    {
     "data": {
      "text/html": [
       "<div>\n",
       "<style scoped>\n",
       "    .dataframe tbody tr th:only-of-type {\n",
       "        vertical-align: middle;\n",
       "    }\n",
       "\n",
       "    .dataframe tbody tr th {\n",
       "        vertical-align: top;\n",
       "    }\n",
       "\n",
       "    .dataframe thead th {\n",
       "        text-align: right;\n",
       "    }\n",
       "</style>\n",
       "<table border=\"1\" class=\"dataframe\">\n",
       "  <thead>\n",
       "    <tr style=\"text-align: right;\">\n",
       "      <th></th>\n",
       "      <th>mean</th>\n",
       "      <th>std</th>\n",
       "      <th>count</th>\n",
       "      <th>error</th>\n",
       "    </tr>\n",
       "    <tr>\n",
       "      <th>carrier</th>\n",
       "      <th></th>\n",
       "      <th></th>\n",
       "      <th></th>\n",
       "      <th></th>\n",
       "    </tr>\n",
       "  </thead>\n",
       "  <tbody>\n",
       "    <tr>\n",
       "      <th>US</th>\n",
       "      <td>3.744693</td>\n",
       "      <td>27.939106</td>\n",
       "      <td>19831</td>\n",
       "      <td>0.388856</td>\n",
       "    </tr>\n",
       "    <tr>\n",
       "      <th>HA</th>\n",
       "      <td>4.900585</td>\n",
       "      <td>74.109901</td>\n",
       "      <td>342</td>\n",
       "      <td>7.854369</td>\n",
       "    </tr>\n",
       "    <tr>\n",
       "      <th>AS</th>\n",
       "      <td>5.830748</td>\n",
       "      <td>31.426798</td>\n",
       "      <td>709</td>\n",
       "      <td>2.313264</td>\n",
       "    </tr>\n",
       "    <tr>\n",
       "      <th>AA</th>\n",
       "      <td>8.569130</td>\n",
       "      <td>37.365267</td>\n",
       "      <td>31947</td>\n",
       "      <td>0.409733</td>\n",
       "    </tr>\n",
       "    <tr>\n",
       "      <th>DL</th>\n",
       "      <td>9.223950</td>\n",
       "      <td>39.656296</td>\n",
       "      <td>47658</td>\n",
       "      <td>0.356035</td>\n",
       "    </tr>\n",
       "    <tr>\n",
       "      <th>MQ</th>\n",
       "      <td>10.445381</td>\n",
       "      <td>39.025198</td>\n",
       "      <td>25037</td>\n",
       "      <td>0.483395</td>\n",
       "    </tr>\n",
       "    <tr>\n",
       "      <th>UA</th>\n",
       "      <td>12.016908</td>\n",
       "      <td>35.547921</td>\n",
       "      <td>57782</td>\n",
       "      <td>0.289845</td>\n",
       "    </tr>\n",
       "    <tr>\n",
       "      <th>OO</th>\n",
       "      <td>12.586207</td>\n",
       "      <td>43.065994</td>\n",
       "      <td>29</td>\n",
       "      <td>15.674134</td>\n",
       "    </tr>\n",
       "    <tr>\n",
       "      <th>VX</th>\n",
       "      <td>12.756646</td>\n",
       "      <td>44.016255</td>\n",
       "      <td>5116</td>\n",
       "      <td>1.206135</td>\n",
       "    </tr>\n",
       "    <tr>\n",
       "      <th>B6</th>\n",
       "      <td>12.967548</td>\n",
       "      <td>38.380215</td>\n",
       "      <td>54049</td>\n",
       "      <td>0.323565</td>\n",
       "    </tr>\n",
       "    <tr>\n",
       "      <th>9E</th>\n",
       "      <td>16.439574</td>\n",
       "      <td>45.487513</td>\n",
       "      <td>17294</td>\n",
       "      <td>0.677942</td>\n",
       "    </tr>\n",
       "    <tr>\n",
       "      <th>WN</th>\n",
       "      <td>17.661657</td>\n",
       "      <td>43.237454</td>\n",
       "      <td>12044</td>\n",
       "      <td>0.772188</td>\n",
       "    </tr>\n",
       "    <tr>\n",
       "      <th>FL</th>\n",
       "      <td>18.605984</td>\n",
       "      <td>52.491059</td>\n",
       "      <td>3175</td>\n",
       "      <td>1.825835</td>\n",
       "    </tr>\n",
       "    <tr>\n",
       "      <th>YV</th>\n",
       "      <td>18.898897</td>\n",
       "      <td>49.164838</td>\n",
       "      <td>544</td>\n",
       "      <td>4.131457</td>\n",
       "    </tr>\n",
       "    <tr>\n",
       "      <th>EV</th>\n",
       "      <td>19.838929</td>\n",
       "      <td>46.446174</td>\n",
       "      <td>51108</td>\n",
       "      <td>0.402674</td>\n",
       "    </tr>\n",
       "    <tr>\n",
       "      <th>F9</th>\n",
       "      <td>20.201175</td>\n",
       "      <td>58.404339</td>\n",
       "      <td>681</td>\n",
       "      <td>4.386515</td>\n",
       "    </tr>\n",
       "  </tbody>\n",
       "</table>\n",
       "</div>"
      ],
      "text/plain": [
       "              mean        std  count      error\n",
       "carrier                                        \n",
       "US        3.744693  27.939106  19831   0.388856\n",
       "HA        4.900585  74.109901    342   7.854369\n",
       "AS        5.830748  31.426798    709   2.313264\n",
       "AA        8.569130  37.365267  31947   0.409733\n",
       "DL        9.223950  39.656296  47658   0.356035\n",
       "MQ       10.445381  39.025198  25037   0.483395\n",
       "UA       12.016908  35.547921  57782   0.289845\n",
       "OO       12.586207  43.065994     29  15.674134\n",
       "VX       12.756646  44.016255   5116   1.206135\n",
       "B6       12.967548  38.380215  54049   0.323565\n",
       "9E       16.439574  45.487513  17294   0.677942\n",
       "WN       17.661657  43.237454  12044   0.772188\n",
       "FL       18.605984  52.491059   3175   1.825835\n",
       "YV       18.898897  49.164838    544   4.131457\n",
       "EV       19.838929  46.446174  51108   0.402674\n",
       "F9       20.201175  58.404339    681   4.386515"
      ]
     },
     "execution_count": 67,
     "metadata": {},
     "output_type": "execute_result"
    }
   ],
   "source": [
    "z = norm.ppf(1-0.05/2)\n",
    "# Отсортируем авиакомпании по величине средней задержки вылета\n",
    "df_1 = df.groupby('carrier')['dep_delay'].agg(['mean', 'std', 'count']).sort_values('mean')\n",
    "# Приведем среднюю задержку вылета вместе с 95%-доверительным интервалом по каждой компании\n",
    "# Полуширина доверительного интервала\n",
    "df_1['error'] = z*df_1['std']/np.sqrt(df_1['count'])\n",
    "df_1"
   ]
  },
  {
   "cell_type": "code",
   "execution_count": 68,
   "id": "24c2b7db",
   "metadata": {},
   "outputs": [
    {
     "data": {
      "image/png": "[encoded data removed]",
      "text/plain": [
       "<Figure size 960x480 with 1 Axes>"
      ]
     },
     "metadata": {},
     "output_type": "display_data"
    }
   ],
   "source": [
    "# Результат представим в виде графика\n",
    "plt.title('95% доверительные интервалы для средней задержки вылета')\n",
    "plt.errorbar(range(len(df_1)), df_1['mean'], yerr=df_1['error'], fmt='o')\n",
    "plt.xticks (ticks=range(len(df_1)), labels=df_1.index) \n",
    "plt.xlabel('Авиакомпания')\n",
    "plt.ylabel('Время задержки (минут)')\n",
    "plt.show()"
   ]
  },
  {
   "cell_type": "markdown",
   "id": "c4103320",
   "metadata": {},
   "source": [
    "Отсортировали по средней задержке вылета. Некоторые доверительные интервалы получились очень широкие по причине малого числа наблюдений."
   ]
  },
  {
   "cell_type": "markdown",
   "id": "312a535e",
   "metadata": {},
   "source": [
    "# Задание 5"
   ]
  },
  {
   "cell_type": "markdown",
   "id": "04d3349a",
   "metadata": {},
   "source": [
    "5. Значимо ли различие в среднем времени задержки вылета для авиакомпаний American Airlines (AA) и Delta Airlines (DL)? На каком уровне значимости можно отвергнуть гипотезу о равенстве средних?"
   ]
  },
  {
   "cell_type": "code",
   "execution_count": 69,
   "id": "d92b4cc2",
   "metadata": {},
   "outputs": [
    {
     "data": {
      "text/html": [
       "<div>\n",
       "<style scoped>\n",
       "    .dataframe tbody tr th:only-of-type {\n",
       "        vertical-align: middle;\n",
       "    }\n",
       "\n",
       "    .dataframe tbody tr th {\n",
       "        vertical-align: top;\n",
       "    }\n",
       "\n",
       "    .dataframe thead th {\n",
       "        text-align: right;\n",
       "    }\n",
       "</style>\n",
       "<table border=\"1\" class=\"dataframe\">\n",
       "  <thead>\n",
       "    <tr style=\"text-align: right;\">\n",
       "      <th></th>\n",
       "      <th>mean</th>\n",
       "      <th>std</th>\n",
       "      <th>count</th>\n",
       "      <th>error</th>\n",
       "    </tr>\n",
       "    <tr>\n",
       "      <th>carrier</th>\n",
       "      <th></th>\n",
       "      <th></th>\n",
       "      <th></th>\n",
       "      <th></th>\n",
       "    </tr>\n",
       "  </thead>\n",
       "  <tbody>\n",
       "    <tr>\n",
       "      <th>AA</th>\n",
       "      <td>8.56913</td>\n",
       "      <td>37.365267</td>\n",
       "      <td>31947</td>\n",
       "      <td>0.409733</td>\n",
       "    </tr>\n",
       "    <tr>\n",
       "      <th>DL</th>\n",
       "      <td>9.22395</td>\n",
       "      <td>39.656296</td>\n",
       "      <td>47658</td>\n",
       "      <td>0.356035</td>\n",
       "    </tr>\n",
       "  </tbody>\n",
       "</table>\n",
       "</div>"
      ],
      "text/plain": [
       "            mean        std  count     error\n",
       "carrier                                     \n",
       "AA       8.56913  37.365267  31947  0.409733\n",
       "DL       9.22395  39.656296  47658  0.356035"
      ]
     },
     "execution_count": 69,
     "metadata": {},
     "output_type": "execute_result"
    }
   ],
   "source": [
    "df_1.loc[['AA','DL'], :]"
   ]
  },
  {
   "cell_type": "markdown",
   "id": "c8d6b295",
   "metadata": {},
   "source": [
    "Количество наблюдений для каждой авиакомпании достаточно большое, также выборочные дисперсии практически не различаются. Поэтому используем t-test с предположением одинаковой дисперсии."
   ]
  },
  {
   "cell_type": "code",
   "execution_count": 70,
   "id": "23ff2db6",
   "metadata": {},
   "outputs": [
    {
     "data": {
      "text/plain": [
       "Ttest_indResult(statistic=-2.3368324651397754, pvalue=0.019450363520510508)"
      ]
     },
     "execution_count": 70,
     "metadata": {},
     "output_type": "execute_result"
    }
   ],
   "source": [
    "stats.ttest_ind(df[df.carrier == 'AA']['dep_delay'], df[df.carrier == 'DL']['dep_delay'], equal_var=True)"
   ]
  },
  {
   "attachments": {},
   "cell_type": "markdown",
   "id": "42ad118e",
   "metadata": {},
   "source": [
    "- На уровне значимости 0.05 различие в средней задержке вылета значимо (гипотеза о равенстве средних отвергается, так как p-value < 0.05)."
   ]
  },
  {
   "cell_type": "markdown",
   "id": "5e133846",
   "metadata": {},
   "source": [
    "# Задание 6"
   ]
  },
  {
   "cell_type": "markdown",
   "id": "5509fc22",
   "metadata": {},
   "source": [
    "6. Сравните между собой аэропорты вылета (JFK, LGA, EWR) с точки зрения статистики задержек вылетов. Являются ли различия статистически значимыми?"
   ]
  },
  {
   "cell_type": "code",
   "execution_count": 71,
   "id": "dba22089",
   "metadata": {},
   "outputs": [
    {
     "data": {
      "text/plain": [
       "origin\n",
       "EWR    15.009110\n",
       "JFK    12.023607\n",
       "LGA    10.286583\n",
       "Name: dep_delay, dtype: float64"
      ]
     },
     "execution_count": 71,
     "metadata": {},
     "output_type": "execute_result"
    }
   ],
   "source": [
    "# Сравним задержки вылетов\n",
    "df.groupby('origin')['dep_delay'].mean()"
   ]
  },
  {
   "attachments": {},
   "cell_type": "markdown",
   "id": "2eb09db4",
   "metadata": {},
   "source": [
    "В наших данных аэропорт 'EWR' имеет самое большое среднее время задержки вылета, а 'LGA' - наименьшее."
   ]
  },
  {
   "attachments": {},
   "cell_type": "markdown",
   "id": "01d085ea",
   "metadata": {},
   "source": [
    "Проверим, значимо ли различаются в среднем три аэропорта по времени вылета, используя однофакторный дисперсионный анализ."
   ]
  },
  {
   "cell_type": "code",
   "execution_count": 72,
   "id": "d6d20d38",
   "metadata": {},
   "outputs": [
    {
     "data": {
      "image/png": "[encoded data removed]",
      "text/plain": [
       "<Figure size 960x480 with 1 Axes>"
      ]
     },
     "metadata": {},
     "output_type": "display_data"
    }
   ],
   "source": [
    "df[df.origin == 'JFK']['dep_delay'].hist(bins=100, alpha=0.5, range = (-100, 100), label = 'JFK')\n",
    "df[df.origin == 'LGA']['dep_delay'].hist(bins=100, alpha=0.5, range = (-100, 100), label = 'LGA')\n",
    "df[df.origin == 'EWR']['dep_delay'].hist(bins=100, alpha=0.5, range = (-100, 100), label = 'EWR')\n",
    "plt.legend(loc='upper right')\n",
    "plt.xlabel('Delay (minutes)')\n",
    "plt.ylabel('Count')\n",
    "plt.title('Delay Distribution in Departure ')\n",
    "plt.show()"
   ]
  },
  {
   "cell_type": "code",
   "execution_count": 73,
   "id": "6e9c3ef0",
   "metadata": {},
   "outputs": [
    {
     "data": {
      "text/plain": [
       "F_onewayResult(statistic=392.3539088643125, pvalue=6.408773574198642e-171)"
      ]
     },
     "execution_count": 73,
     "metadata": {},
     "output_type": "execute_result"
    }
   ],
   "source": [
    "stats.f_oneway(df[df.origin == 'JFK']['dep_delay'],\n",
    "               df[df.origin == 'LGA']['dep_delay'],\n",
    "               df[df.origin == 'EWR']['dep_delay'])"
   ]
  },
  {
   "attachments": {},
   "cell_type": "markdown",
   "id": "76a2dec7",
   "metadata": {},
   "source": [
    "p-value < 0.05 (намного меньше), поэтому гипотезу о равенстве средних задержек вылета отвергаем. Различия статистически значимы."
   ]
  },
  {
   "cell_type": "markdown",
   "id": "67ce8499",
   "metadata": {},
   "source": [
    "# Задание 7"
   ]
  },
  {
   "cell_type": "markdown",
   "id": "f8ca1a51",
   "metadata": {},
   "source": [
    "7. Каким распределением можно описать распределение времени задержки вылета в диапазоне, где время задержки вылета > 0? Предложите общий вид распределения и оцените его параметры. На одном рисунке изобразите гистограмму и график плотности аппроксимирующего распределения."
   ]
  },
  {
   "cell_type": "code",
   "execution_count": 74,
   "id": "ad0f6e88",
   "metadata": {},
   "outputs": [],
   "source": [
    "df_7 = df[df.dep_delay>0]['dep_delay']"
   ]
  },
  {
   "cell_type": "code",
   "execution_count": 75,
   "id": "2e54bad4",
   "metadata": {},
   "outputs": [
    {
     "data": {
      "image/png": "[encoded data removed]",
      "text/plain": [
       "<Figure size 960x480 with 1 Axes>"
      ]
     },
     "metadata": {},
     "output_type": "display_data"
    }
   ],
   "source": [
    "df_7.hist(bins=200)\n",
    "plt.xlabel('Delay (minutes)')\n",
    "plt.ylabel('Count')\n",
    "plt.title('Delay Distribution in Departure (>0)')\n",
    "plt.show()"
   ]
  },
  {
   "attachments": {},
   "cell_type": "markdown",
   "id": "4d441eef",
   "metadata": {},
   "source": [
    "Время задержки вылета (в диапазоне, где время задержки вылета > 0) можно аппроксимировать экспоненциальным распределением. Оценим его параметр лямбда, как 1 поделить на среднее время задержки вылета."
   ]
  },
  {
   "cell_type": "code",
   "execution_count": 76,
   "id": "ca329a6a",
   "metadata": {},
   "outputs": [
    {
     "data": {
      "text/plain": [
       "0.025485840988861405"
      ]
     },
     "execution_count": 76,
     "metadata": {},
     "output_type": "execute_result"
    }
   ],
   "source": [
    "lambda_ = 1/df_7.mean()\n",
    "lambda_"
   ]
  },
  {
   "cell_type": "code",
   "execution_count": 77,
   "id": "a1de5771",
   "metadata": {},
   "outputs": [],
   "source": [
    "# Найдем теоретические значения плотности в некоторых точках\n",
    "x = range(400)\n",
    "dencity_teor = [expon(scale = 1/lambda_).pdf(i) for i in x]"
   ]
  },
  {
   "cell_type": "code",
   "execution_count": 78,
   "id": "399e35c8",
   "metadata": {},
   "outputs": [
    {
     "data": {
      "image/png": "[encoded data removed]",
      "text/plain": [
       "<Figure size 960x480 with 1 Axes>"
      ]
     },
     "metadata": {},
     "output_type": "display_data"
    }
   ],
   "source": [
    "# На одном рисунке изобразим гистограмму и график плотности аппроксимирующего распределения\n",
    "plt.hist(df_7, bins=100, density=True,  label='Delay in Arrival', range = (0,400))\n",
    "plt.plot(x, dencity_teor, label = 'teor distribution')\n",
    "plt.legend(loc='upper right')\n",
    "plt.xlabel('Delay (minutes)')\n",
    "plt.ylabel('Density')\n",
    "plt.title('Delay Distribution in Departure')\n",
    "plt.show()"
   ]
  },
  {
   "cell_type": "markdown",
   "id": "d68c9200",
   "metadata": {},
   "source": [
    "# Задание 8"
   ]
  },
  {
   "cell_type": "markdown",
   "id": "c28dbb7a",
   "metadata": {},
   "source": [
    "8. Для тех рейсов, для которых задержка вылета > 0, постройте в одних осях графики числа рейсов в месяц и среднего времени задержки в месяц. Найдите коэффициент корреляции между полученными значениями. Постройте точечную диаграмму (scatterplot), показывающую зависимость между полученными значениями (по оси Х отложите число рейсов в месяц). Нанесите на график линию регрессии. Выпишите уравнение регрессии."
   ]
  },
  {
   "cell_type": "code",
   "execution_count": 79,
   "id": "0b53d3a7",
   "metadata": {},
   "outputs": [
    {
     "data": {
      "text/html": [
       "<div>\n",
       "<style scoped>\n",
       "    .dataframe tbody tr th:only-of-type {\n",
       "        vertical-align: middle;\n",
       "    }\n",
       "\n",
       "    .dataframe tbody tr th {\n",
       "        vertical-align: top;\n",
       "    }\n",
       "\n",
       "    .dataframe thead th {\n",
       "        text-align: right;\n",
       "    }\n",
       "</style>\n",
       "<table border=\"1\" class=\"dataframe\">\n",
       "  <thead>\n",
       "    <tr style=\"text-align: right;\">\n",
       "      <th></th>\n",
       "      <th>mean</th>\n",
       "      <th>count</th>\n",
       "    </tr>\n",
       "    <tr>\n",
       "      <th>month</th>\n",
       "      <th></th>\n",
       "      <th></th>\n",
       "    </tr>\n",
       "  </thead>\n",
       "  <tbody>\n",
       "    <tr>\n",
       "      <th>1</th>\n",
       "      <td>35.241788</td>\n",
       "      <td>9620</td>\n",
       "    </tr>\n",
       "    <tr>\n",
       "      <th>2</th>\n",
       "      <td>35.176056</td>\n",
       "      <td>9088</td>\n",
       "    </tr>\n",
       "    <tr>\n",
       "      <th>3</th>\n",
       "      <td>39.515404</td>\n",
       "      <td>11166</td>\n",
       "    </tr>\n",
       "    <tr>\n",
       "      <th>4</th>\n",
       "      <td>44.055322</td>\n",
       "      <td>10484</td>\n",
       "    </tr>\n",
       "    <tr>\n",
       "      <th>5</th>\n",
       "      <td>39.093525</td>\n",
       "      <td>11227</td>\n",
       "    </tr>\n",
       "    <tr>\n",
       "      <th>6</th>\n",
       "      <td>49.631550</td>\n",
       "      <td>12558</td>\n",
       "    </tr>\n",
       "    <tr>\n",
       "      <th>7</th>\n",
       "      <td>48.548827</td>\n",
       "      <td>13773</td>\n",
       "    </tr>\n",
       "    <tr>\n",
       "      <th>8</th>\n",
       "      <td>37.224518</td>\n",
       "      <td>11665</td>\n",
       "    </tr>\n",
       "    <tr>\n",
       "      <th>9</th>\n",
       "      <td>35.517415</td>\n",
       "      <td>7752</td>\n",
       "    </tr>\n",
       "    <tr>\n",
       "      <th>10</th>\n",
       "      <td>31.555262</td>\n",
       "      <td>8704</td>\n",
       "    </tr>\n",
       "    <tr>\n",
       "      <th>11</th>\n",
       "      <td>28.667072</td>\n",
       "      <td>8218</td>\n",
       "    </tr>\n",
       "    <tr>\n",
       "      <th>12</th>\n",
       "      <td>37.060267</td>\n",
       "      <td>13490</td>\n",
       "    </tr>\n",
       "  </tbody>\n",
       "</table>\n",
       "</div>"
      ],
      "text/plain": [
       "            mean  count\n",
       "month                  \n",
       "1      35.241788   9620\n",
       "2      35.176056   9088\n",
       "3      39.515404  11166\n",
       "4      44.055322  10484\n",
       "5      39.093525  11227\n",
       "6      49.631550  12558\n",
       "7      48.548827  13773\n",
       "8      37.224518  11665\n",
       "9      35.517415   7752\n",
       "10     31.555262   8704\n",
       "11     28.667072   8218\n",
       "12     37.060267  13490"
      ]
     },
     "execution_count": 79,
     "metadata": {},
     "output_type": "execute_result"
    }
   ],
   "source": [
    "# Cначала сгруппируем данные\n",
    "df_8 = df[df.dep_delay>0].groupby(['month'])['dep_delay'].agg(['mean', 'count'])\n",
    "df_8"
   ]
  },
  {
   "cell_type": "code",
   "execution_count": 80,
   "id": "3f9169f1",
   "metadata": {},
   "outputs": [
    {
     "data": {
      "image/png": "[encoded data removed]",
      "text/plain": [
       "<Figure size 960x480 with 1 Axes>"
      ]
     },
     "metadata": {},
     "output_type": "display_data"
    }
   ],
   "source": [
    "# Построим в одних осях графики числа рейсов в месяц и среднего времени задержки в месяц\n",
    "plt.plot(df_8.index, df_8['mean'], label = 'Среднее время задержки вылета (минут)')\n",
    "plt.plot(df_8.index, df_8['count']/1000, label = 'Количество рейсов (тысяч)')\n",
    "plt.legend(loc='upper right')\n",
    "plt.xlabel('Месяц')\n",
    "plt.ylabel('Время / Количество')\n",
    "plt.title('Статистика по месяцам')\n",
    "plt.show()"
   ]
  },
  {
   "cell_type": "code",
   "execution_count": null,
   "id": "6c598567",
   "metadata": {},
   "outputs": [
    {
     "data": {
      "text/plain": [
       "0.7288370677699052"
      ]
     },
     "metadata": {},
     "output_type": "display_data"
    }
   ],
   "source": [
    "# Найдем коэффициент корреляции между полученными значениями\n",
    "df_8.corr()['mean']['count']"
   ]
  },
  {
   "attachments": {},
   "cell_type": "markdown",
   "id": "3fc5d46d",
   "metadata": {},
   "source": [
    "Построим точечную диаграмму (scatterplot), показывающую зависимость между полученными значениями и нанесем на график линию регрессии."
   ]
  },
  {
   "cell_type": "code",
   "execution_count": null,
   "id": "9692849c",
   "metadata": {},
   "outputs": [
    {
     "name": "stdout",
     "output_type": "stream",
     "text": [
      "Уравнение регрессии: y = 0.0023x + 14.21\n"
     ]
    }
   ],
   "source": [
    "from scipy.stats import linregress\n",
    "# Линия регрессии\n",
    "slope, intercept, rvalue, pvalue, stderr = linregress(df_8['count'], df_8['mean'])\n",
    "print(f\"Уравнение регрессии: y = {slope:.4f}x + {intercept:.2f}\")\n"
   ]
  },
  {
   "cell_type": "code",
   "execution_count": null,
   "id": "c8aaae94",
   "metadata": {},
   "outputs": [
    {
     "data": {
      "image/png": "[encoded data removed]",
      "text/plain": [
       "<Figure size 960x480 with 1 Axes>"
      ]
     },
     "metadata": {},
     "output_type": "display_data"
    }
   ],
   "source": [
    "# Точечная диаграмма\n",
    "plt.scatter(df_8['count'], df_8['mean'])\n",
    "plt.plot([i for i in range(8000, 14000)], [slope*i + intercept for i in range(8000, 14000)])\n",
    "plt.xlabel('Количество рейсов')\n",
    "plt.ylabel('Среднее время задержки вылета')\n",
    "plt.title('Зависимость средней задержки вылета и количества рейсов')\n",
    "plt.show()"
   ]
  },
  {
   "cell_type": "markdown",
   "id": "0785fedb",
   "metadata": {},
   "source": [
    "Корреляция между этими двумя величинами высокая и прямая. То есть чем больше рейсов в месяц, тем выше среднее время задержки вылета."
   ]
  },
  {
   "cell_type": "markdown",
   "id": "5906deb6",
   "metadata": {},
   "source": [
    "# Задание 9"
   ]
  },
  {
   "cell_type": "markdown",
   "id": "44e34785",
   "metadata": {},
   "source": [
    "9. Постройте график среднего времени задержки в зависимости от часа вылета. На отдельном графике постройте долю рейсов, для которых задержка > 0, в зависимости от часа вылета. Опишите словами наблюдаемую картину."
   ]
  },
  {
   "cell_type": "code",
   "execution_count": null,
   "id": "7cfc768b",
   "metadata": {},
   "outputs": [
    {
     "data": {
      "text/html": [
       "<div>\n",
       "<style scoped>\n",
       "    .dataframe tbody tr th:only-of-type {\n",
       "        vertical-align: middle;\n",
       "    }\n",
       "\n",
       "    .dataframe tbody tr th {\n",
       "        vertical-align: top;\n",
       "    }\n",
       "\n",
       "    .dataframe thead th {\n",
       "        text-align: right;\n",
       "    }\n",
       "</style>\n",
       "<table border=\"1\" class=\"dataframe\">\n",
       "  <thead>\n",
       "    <tr style=\"text-align: right;\">\n",
       "      <th></th>\n",
       "      <th>year</th>\n",
       "      <th>month</th>\n",
       "      <th>day</th>\n",
       "      <th>dep_time</th>\n",
       "      <th>dep_delay</th>\n",
       "      <th>arr_time</th>\n",
       "      <th>arr_delay</th>\n",
       "      <th>carrier</th>\n",
       "      <th>tailnum</th>\n",
       "      <th>flight</th>\n",
       "      <th>origin</th>\n",
       "      <th>dest</th>\n",
       "      <th>air_time</th>\n",
       "      <th>distance</th>\n",
       "      <th>dep_hour</th>\n",
       "    </tr>\n",
       "  </thead>\n",
       "  <tbody>\n",
       "    <tr>\n",
       "      <th>0</th>\n",
       "      <td>2013</td>\n",
       "      <td>1</td>\n",
       "      <td>1</td>\n",
       "      <td>517.0</td>\n",
       "      <td>2.0</td>\n",
       "      <td>830.0</td>\n",
       "      <td>11.0</td>\n",
       "      <td>UA</td>\n",
       "      <td>N14228</td>\n",
       "      <td>1545</td>\n",
       "      <td>EWR</td>\n",
       "      <td>IAH</td>\n",
       "      <td>227.0</td>\n",
       "      <td>1400</td>\n",
       "      <td>5</td>\n",
       "    </tr>\n",
       "    <tr>\n",
       "      <th>1</th>\n",
       "      <td>2013</td>\n",
       "      <td>1</td>\n",
       "      <td>1</td>\n",
       "      <td>533.0</td>\n",
       "      <td>4.0</td>\n",
       "      <td>850.0</td>\n",
       "      <td>20.0</td>\n",
       "      <td>UA</td>\n",
       "      <td>N24211</td>\n",
       "      <td>1714</td>\n",
       "      <td>LGA</td>\n",
       "      <td>IAH</td>\n",
       "      <td>227.0</td>\n",
       "      <td>1416</td>\n",
       "      <td>5</td>\n",
       "    </tr>\n",
       "    <tr>\n",
       "      <th>2</th>\n",
       "      <td>2013</td>\n",
       "      <td>1</td>\n",
       "      <td>1</td>\n",
       "      <td>542.0</td>\n",
       "      <td>2.0</td>\n",
       "      <td>923.0</td>\n",
       "      <td>33.0</td>\n",
       "      <td>AA</td>\n",
       "      <td>N619AA</td>\n",
       "      <td>1141</td>\n",
       "      <td>JFK</td>\n",
       "      <td>MIA</td>\n",
       "      <td>160.0</td>\n",
       "      <td>1089</td>\n",
       "      <td>5</td>\n",
       "    </tr>\n",
       "    <tr>\n",
       "      <th>3</th>\n",
       "      <td>2013</td>\n",
       "      <td>1</td>\n",
       "      <td>1</td>\n",
       "      <td>544.0</td>\n",
       "      <td>-1.0</td>\n",
       "      <td>1004.0</td>\n",
       "      <td>-18.0</td>\n",
       "      <td>B6</td>\n",
       "      <td>N804JB</td>\n",
       "      <td>725</td>\n",
       "      <td>JFK</td>\n",
       "      <td>BQN</td>\n",
       "      <td>183.0</td>\n",
       "      <td>1576</td>\n",
       "      <td>5</td>\n",
       "    </tr>\n",
       "    <tr>\n",
       "      <th>4</th>\n",
       "      <td>2013</td>\n",
       "      <td>1</td>\n",
       "      <td>1</td>\n",
       "      <td>554.0</td>\n",
       "      <td>-6.0</td>\n",
       "      <td>812.0</td>\n",
       "      <td>-25.0</td>\n",
       "      <td>DL</td>\n",
       "      <td>N668DN</td>\n",
       "      <td>461</td>\n",
       "      <td>LGA</td>\n",
       "      <td>ATL</td>\n",
       "      <td>116.0</td>\n",
       "      <td>762</td>\n",
       "      <td>5</td>\n",
       "    </tr>\n",
       "  </tbody>\n",
       "</table>\n",
       "</div>"
      ],
      "text/plain": [
       "   year  month  day  dep_time  dep_delay  arr_time  arr_delay carrier tailnum   \n",
       "0  2013      1    1     517.0        2.0     830.0       11.0      UA  N14228  \\\n",
       "1  2013      1    1     533.0        4.0     850.0       20.0      UA  N24211   \n",
       "2  2013      1    1     542.0        2.0     923.0       33.0      AA  N619AA   \n",
       "3  2013      1    1     544.0       -1.0    1004.0      -18.0      B6  N804JB   \n",
       "4  2013      1    1     554.0       -6.0     812.0      -25.0      DL  N668DN   \n",
       "\n",
       "   flight origin dest  air_time  distance  dep_hour  \n",
       "0    1545    EWR  IAH     227.0      1400         5  \n",
       "1    1714    LGA  IAH     227.0      1416         5  \n",
       "2    1141    JFK  MIA     160.0      1089         5  \n",
       "3     725    JFK  BQN     183.0      1576         5  \n",
       "4     461    LGA  ATL     116.0       762         5  "
      ]
     },
     "execution_count": 27,
     "metadata": {},
     "output_type": "execute_result"
    }
   ],
   "source": [
    "# Выделим час вылета\n",
    "df['dep_hour'] = (df.dep_time/100).astype('int')\n",
    "df.head()"
   ]
  },
  {
   "cell_type": "code",
   "execution_count": null,
   "id": "0c7f5dd0",
   "metadata": {},
   "outputs": [
    {
     "data": {
      "text/html": [
       "<div>\n",
       "<style scoped>\n",
       "    .dataframe tbody tr th:only-of-type {\n",
       "        vertical-align: middle;\n",
       "    }\n",
       "\n",
       "    .dataframe tbody tr th {\n",
       "        vertical-align: top;\n",
       "    }\n",
       "\n",
       "    .dataframe thead th {\n",
       "        text-align: right;\n",
       "    }\n",
       "</style>\n",
       "<table border=\"1\" class=\"dataframe\">\n",
       "  <thead>\n",
       "    <tr style=\"text-align: right;\">\n",
       "      <th></th>\n",
       "      <th>dep_delay</th>\n",
       "      <th>proportion</th>\n",
       "    </tr>\n",
       "    <tr>\n",
       "      <th>dep_hour</th>\n",
       "      <th></th>\n",
       "      <th></th>\n",
       "    </tr>\n",
       "  </thead>\n",
       "  <tbody>\n",
       "    <tr>\n",
       "      <th>0</th>\n",
       "      <td>129.287671</td>\n",
       "      <td>1.000000</td>\n",
       "    </tr>\n",
       "    <tr>\n",
       "      <th>1</th>\n",
       "      <td>206.755656</td>\n",
       "      <td>1.000000</td>\n",
       "    </tr>\n",
       "    <tr>\n",
       "      <th>2</th>\n",
       "      <td>236.253968</td>\n",
       "      <td>1.000000</td>\n",
       "    </tr>\n",
       "    <tr>\n",
       "      <th>3</th>\n",
       "      <td>304.727273</td>\n",
       "      <td>1.000000</td>\n",
       "    </tr>\n",
       "    <tr>\n",
       "      <th>4</th>\n",
       "      <td>-5.554098</td>\n",
       "      <td>0.000000</td>\n",
       "    </tr>\n",
       "    <tr>\n",
       "      <th>5</th>\n",
       "      <td>-4.356293</td>\n",
       "      <td>0.050622</td>\n",
       "    </tr>\n",
       "    <tr>\n",
       "      <th>6</th>\n",
       "      <td>-1.521810</td>\n",
       "      <td>0.181818</td>\n",
       "    </tr>\n",
       "    <tr>\n",
       "      <th>7</th>\n",
       "      <td>0.214723</td>\n",
       "      <td>0.207343</td>\n",
       "    </tr>\n",
       "    <tr>\n",
       "      <th>8</th>\n",
       "      <td>1.092312</td>\n",
       "      <td>0.234118</td>\n",
       "    </tr>\n",
       "    <tr>\n",
       "      <th>9</th>\n",
       "      <td>4.234113</td>\n",
       "      <td>0.291498</td>\n",
       "    </tr>\n",
       "    <tr>\n",
       "      <th>10</th>\n",
       "      <td>5.511072</td>\n",
       "      <td>0.311334</td>\n",
       "    </tr>\n",
       "    <tr>\n",
       "      <th>11</th>\n",
       "      <td>5.613272</td>\n",
       "      <td>0.286740</td>\n",
       "    </tr>\n",
       "    <tr>\n",
       "      <th>12</th>\n",
       "      <td>7.517349</td>\n",
       "      <td>0.351972</td>\n",
       "    </tr>\n",
       "    <tr>\n",
       "      <th>13</th>\n",
       "      <td>9.363906</td>\n",
       "      <td>0.417750</td>\n",
       "    </tr>\n",
       "    <tr>\n",
       "      <th>14</th>\n",
       "      <td>8.051829</td>\n",
       "      <td>0.368442</td>\n",
       "    </tr>\n",
       "    <tr>\n",
       "      <th>15</th>\n",
       "      <td>10.593314</td>\n",
       "      <td>0.461481</td>\n",
       "    </tr>\n",
       "    <tr>\n",
       "      <th>16</th>\n",
       "      <td>13.557250</td>\n",
       "      <td>0.476165</td>\n",
       "    </tr>\n",
       "    <tr>\n",
       "      <th>17</th>\n",
       "      <td>16.655747</td>\n",
       "      <td>0.521122</td>\n",
       "    </tr>\n",
       "    <tr>\n",
       "      <th>18</th>\n",
       "      <td>18.474666</td>\n",
       "      <td>0.481984</td>\n",
       "    </tr>\n",
       "    <tr>\n",
       "      <th>19</th>\n",
       "      <td>21.310201</td>\n",
       "      <td>0.530472</td>\n",
       "    </tr>\n",
       "    <tr>\n",
       "      <th>20</th>\n",
       "      <td>28.087594</td>\n",
       "      <td>0.560539</td>\n",
       "    </tr>\n",
       "    <tr>\n",
       "      <th>21</th>\n",
       "      <td>41.844145</td>\n",
       "      <td>0.678395</td>\n",
       "    </tr>\n",
       "    <tr>\n",
       "      <th>22</th>\n",
       "      <td>67.958616</td>\n",
       "      <td>0.750229</td>\n",
       "    </tr>\n",
       "    <tr>\n",
       "      <th>23</th>\n",
       "      <td>96.638420</td>\n",
       "      <td>0.781442</td>\n",
       "    </tr>\n",
       "    <tr>\n",
       "      <th>24</th>\n",
       "      <td>64.862069</td>\n",
       "      <td>1.000000</td>\n",
       "    </tr>\n",
       "  </tbody>\n",
       "</table>\n",
       "</div>"
      ],
      "text/plain": [
       "           dep_delay  proportion\n",
       "dep_hour                        \n",
       "0         129.287671    1.000000\n",
       "1         206.755656    1.000000\n",
       "2         236.253968    1.000000\n",
       "3         304.727273    1.000000\n",
       "4          -5.554098    0.000000\n",
       "5          -4.356293    0.050622\n",
       "6          -1.521810    0.181818\n",
       "7           0.214723    0.207343\n",
       "8           1.092312    0.234118\n",
       "9           4.234113    0.291498\n",
       "10          5.511072    0.311334\n",
       "11          5.613272    0.286740\n",
       "12          7.517349    0.351972\n",
       "13          9.363906    0.417750\n",
       "14          8.051829    0.368442\n",
       "15         10.593314    0.461481\n",
       "16         13.557250    0.476165\n",
       "17         16.655747    0.521122\n",
       "18         18.474666    0.481984\n",
       "19         21.310201    0.530472\n",
       "20         28.087594    0.560539\n",
       "21         41.844145    0.678395\n",
       "22         67.958616    0.750229\n",
       "23         96.638420    0.781442\n",
       "24         64.862069    1.000000"
      ]
     },
     "execution_count": 28,
     "metadata": {},
     "output_type": "execute_result"
    }
   ],
   "source": [
    "#Cначала сгруппируем данные\n",
    "def er(x):\n",
    "    return (x>0).sum()/len(x)\n",
    "\n",
    "df_8 = df.groupby(['dep_hour'])[['dep_delay']].mean()\n",
    "df_8['proportion'] = df.groupby(['dep_hour'])['dep_delay'].apply(er)\n",
    "df_8"
   ]
  },
  {
   "cell_type": "code",
   "execution_count": null,
   "id": "11a346df",
   "metadata": {},
   "outputs": [
    {
     "data": {
      "image/png": "[encoded data removed]",
      "text/plain": [
       "<Figure size 960x480 with 1 Axes>"
      ]
     },
     "metadata": {},
     "output_type": "display_data"
    }
   ],
   "source": [
    "# График среднего времени задержки в зависимости от часа вылета\n",
    "plt.plot(df_8['dep_delay'])\n",
    "plt.xlabel('Час вылета')\n",
    "plt.ylabel('Среднее время задержки вылета')\n",
    "plt.title('Статистика по часам')\n",
    "plt.show()"
   ]
  },
  {
   "cell_type": "code",
   "execution_count": null,
   "id": "772814a5",
   "metadata": {},
   "outputs": [
    {
     "data": {
      "image/png": "[encoded data removed]",
      "text/plain": [
       "<Figure size 960x480 with 1 Axes>"
      ]
     },
     "metadata": {},
     "output_type": "display_data"
    }
   ],
   "source": [
    "# Доля рейсов, для которых задержка > 0, в зависимости от часа вылета\n",
    "plt.bar(df_8.index, df_8['proportion'])\n",
    "plt.xlabel('Час вылета')\n",
    "plt.ylabel('Доля задержанных рейсов')\n",
    "plt.title('Статистика по часам')\n",
    "plt.show()"
   ]
  },
  {
   "attachments": {},
   "cell_type": "markdown",
   "id": "3e15ea95",
   "metadata": {},
   "source": [
    "Заметим, что в ночные часы среднее время задержки намного больше, как и доля задержанных рейсов. С 23 до 4 часов все рейсы были задержаны."
   ]
  },
  {
   "cell_type": "markdown",
   "id": "e4d4ceff",
   "metadata": {},
   "source": [
    "# Задание 10"
   ]
  },
  {
   "cell_type": "markdown",
   "id": "4b173e9c",
   "metadata": {},
   "source": [
    "10. Предложите способ разделить авиакомпании на пунктуальные и непунктуальные. Какие авиакомпании в какую группу попадают? Будут ли различаться группы в зависимости от дальности перелета?"
   ]
  },
  {
   "cell_type": "markdown",
   "id": "4356017b",
   "metadata": {},
   "source": [
    "Давайте разделим компании на пунктуальные и непунктуальные по частоте опозданий на вылет. Сначала посмотрим на эту частоту."
   ]
  },
  {
   "cell_type": "code",
   "execution_count": null,
   "id": "906646cd",
   "metadata": {},
   "outputs": [
    {
     "data": {
      "text/plain": [
       "carrier\n",
       "HA    0.201754\n",
       "US    0.240129\n",
       "OO    0.310345\n",
       "AA    0.316305\n",
       "AS    0.317348\n",
       "MQ    0.318169\n",
       "DL    0.318645\n",
       "B6    0.395419\n",
       "9E    0.403608\n",
       "YV    0.426471\n",
       "VX    0.433151\n",
       "EV    0.449558\n",
       "UA    0.469437\n",
       "F9    0.499266\n",
       "FL    0.518740\n",
       "WN    0.542594\n",
       "Name: dep_delay, dtype: float64"
      ]
     },
     "execution_count": 31,
     "metadata": {},
     "output_type": "execute_result"
    }
   ],
   "source": [
    "def er(x):\n",
    "    return (x>0).sum()/len(x)\n",
    "\n",
    "df_10= df.groupby(['carrier'])['dep_delay'].apply(er).sort_values()\n",
    "df_10"
   ]
  },
  {
   "attachments": {},
   "cell_type": "markdown",
   "id": "157ac1b6",
   "metadata": {},
   "source": [
    "Компании, у которых частота опозданий до 0.4 - будем считать пунктуальными.\n",
    "\n",
    "Тогда пунктуальные компании: HA, US, OO, AA, AS, MQ, DL, B6.\n",
    "\n",
    "Непунктуальные:  9E, YV, VX, EV, UA, F9, FL, WN."
   ]
  },
  {
   "attachments": {},
   "cell_type": "markdown",
   "id": "d6329a3d",
   "metadata": {},
   "source": [
    "Посмотрим, какие компании куда попадут, если дальность перелета больше 1000 миль (зависимость от дальности перелета)."
   ]
  },
  {
   "cell_type": "code",
   "execution_count": null,
   "id": "485e24fb",
   "metadata": {},
   "outputs": [
    {
     "data": {
      "text/plain": [
       "carrier\n",
       "HA    0.201754\n",
       "MQ    0.264168\n",
       "US    0.302679\n",
       "AS    0.317348\n",
       "DL    0.326248\n",
       "AA    0.327500\n",
       "Name: dep_delay, dtype: float64"
      ]
     },
     "execution_count": 32,
     "metadata": {},
     "output_type": "execute_result"
    }
   ],
   "source": [
    "df_10_1= df[df.distance>1000].groupby(['carrier'])['dep_delay'].apply(er).sort_values()\n",
    "df_10_1[df_10_1<0.4]"
   ]
  },
  {
   "cell_type": "code",
   "execution_count": null,
   "id": "c66bf381",
   "metadata": {},
   "outputs": [
    {
     "data": {
      "text/plain": [
       "carrier\n",
       "HA    0.201754\n",
       "MQ    0.264168\n",
       "US    0.302679\n",
       "AS    0.317348\n",
       "DL    0.326248\n",
       "AA    0.327500\n",
       "B6    0.413877\n",
       "VX    0.433151\n",
       "EV    0.447163\n",
       "9E    0.464062\n",
       "UA    0.478453\n",
       "F9    0.499266\n",
       "OO    0.500000\n",
       "WN    0.572908\n",
       "Name: dep_delay, dtype: float64"
      ]
     },
     "execution_count": 33,
     "metadata": {},
     "output_type": "execute_result"
    }
   ],
   "source": [
    "df_10_1"
   ]
  },
  {
   "attachments": {},
   "cell_type": "markdown",
   "id": "0a56131a",
   "metadata": {},
   "source": [
    "В этом случае группы различаются: например, компания OO попала в конец списка (стала непунктуальной). "
   ]
  },
  {
   "cell_type": "markdown",
   "id": "7dd55fc5",
   "metadata": {},
   "source": [
    "# Задание 11"
   ]
  },
  {
   "cell_type": "markdown",
   "id": "dd54148d",
   "metadata": {},
   "source": [
    "11. Предложите модель, дающую прогноз средней задержки вылета по каждому аэропорту на следующий день. Какие признаки вы будете использовать, на каких данных будете обучать (настраивать) модель, на каких тестировать? Оцените точность вашей модели. В частности, сделайте прогноз на 31 декабря 2013 года и сравните с фактическим значением (исключите эту дату из обучающей и тестовой выборки)."
   ]
  },
  {
   "attachments": {},
   "cell_type": "markdown",
   "id": "4baaf439",
   "metadata": {},
   "source": [
    "В качестве признаков будем использовать (известны заранее):\n",
    "1. Среднюю дистанцию, которую планируется пролететь \n",
    "2. Количество рейсов \n",
    "3. Доля пунктуальных перевозчиков на назначенный день"
   ]
  },
  {
   "cell_type": "markdown",
   "id": "564d461b",
   "metadata": {},
   "source": [
    "## Для аэропорта EWR"
   ]
  },
  {
   "cell_type": "code",
   "execution_count": null,
   "id": "247e3858",
   "metadata": {},
   "outputs": [
    {
     "data": {
      "text/html": [
       "<div>\n",
       "<style scoped>\n",
       "    .dataframe tbody tr th:only-of-type {\n",
       "        vertical-align: middle;\n",
       "    }\n",
       "\n",
       "    .dataframe tbody tr th {\n",
       "        vertical-align: top;\n",
       "    }\n",
       "\n",
       "    .dataframe thead th {\n",
       "        text-align: right;\n",
       "    }\n",
       "</style>\n",
       "<table border=\"1\" class=\"dataframe\">\n",
       "  <thead>\n",
       "    <tr style=\"text-align: right;\">\n",
       "      <th></th>\n",
       "      <th></th>\n",
       "      <th>dep_delay</th>\n",
       "      <th>distance</th>\n",
       "      <th>count</th>\n",
       "      <th>carrier</th>\n",
       "    </tr>\n",
       "    <tr>\n",
       "      <th>month</th>\n",
       "      <th>day</th>\n",
       "      <th></th>\n",
       "      <th></th>\n",
       "      <th></th>\n",
       "      <th></th>\n",
       "    </tr>\n",
       "  </thead>\n",
       "  <tbody>\n",
       "    <tr>\n",
       "      <th rowspan=\"5\" valign=\"top\">1</th>\n",
       "      <th>1</th>\n",
       "      <td>17.296667</td>\n",
       "      <td>1039.803333</td>\n",
       "      <td>300</td>\n",
       "      <td>0.193333</td>\n",
       "    </tr>\n",
       "    <tr>\n",
       "      <th>2</th>\n",
       "      <td>25.123167</td>\n",
       "      <td>1010.390029</td>\n",
       "      <td>341</td>\n",
       "      <td>0.187683</td>\n",
       "    </tr>\n",
       "    <tr>\n",
       "      <th>3</th>\n",
       "      <td>8.522659</td>\n",
       "      <td>984.640483</td>\n",
       "      <td>331</td>\n",
       "      <td>0.196375</td>\n",
       "    </tr>\n",
       "    <tr>\n",
       "      <th>4</th>\n",
       "      <td>12.103858</td>\n",
       "      <td>969.412463</td>\n",
       "      <td>337</td>\n",
       "      <td>0.183976</td>\n",
       "    </tr>\n",
       "    <tr>\n",
       "      <th>5</th>\n",
       "      <td>5.696203</td>\n",
       "      <td>1042.974684</td>\n",
       "      <td>237</td>\n",
       "      <td>0.223629</td>\n",
       "    </tr>\n",
       "    <tr>\n",
       "      <th>...</th>\n",
       "      <th>...</th>\n",
       "      <td>...</td>\n",
       "      <td>...</td>\n",
       "      <td>...</td>\n",
       "      <td>...</td>\n",
       "    </tr>\n",
       "    <tr>\n",
       "      <th rowspan=\"5\" valign=\"top\">12</th>\n",
       "      <th>27</th>\n",
       "      <td>16.256560</td>\n",
       "      <td>1099.708455</td>\n",
       "      <td>343</td>\n",
       "      <td>0.186589</td>\n",
       "    </tr>\n",
       "    <tr>\n",
       "      <th>28</th>\n",
       "      <td>8.768421</td>\n",
       "      <td>1147.336842</td>\n",
       "      <td>285</td>\n",
       "      <td>0.203509</td>\n",
       "    </tr>\n",
       "    <tr>\n",
       "      <th>29</th>\n",
       "      <td>29.580205</td>\n",
       "      <td>1154.105802</td>\n",
       "      <td>293</td>\n",
       "      <td>0.197952</td>\n",
       "    </tr>\n",
       "    <tr>\n",
       "      <th>30</th>\n",
       "      <td>16.730435</td>\n",
       "      <td>1120.773913</td>\n",
       "      <td>345</td>\n",
       "      <td>0.176812</td>\n",
       "    </tr>\n",
       "    <tr>\n",
       "      <th>31</th>\n",
       "      <td>9.776923</td>\n",
       "      <td>1159.700000</td>\n",
       "      <td>260</td>\n",
       "      <td>0.234615</td>\n",
       "    </tr>\n",
       "  </tbody>\n",
       "</table>\n",
       "<p>365 rows × 4 columns</p>\n",
       "</div>"
      ],
      "text/plain": [
       "           dep_delay     distance  count   carrier\n",
       "month day                                         \n",
       "1     1    17.296667  1039.803333    300  0.193333\n",
       "      2    25.123167  1010.390029    341  0.187683\n",
       "      3     8.522659   984.640483    331  0.196375\n",
       "      4    12.103858   969.412463    337  0.183976\n",
       "      5     5.696203  1042.974684    237  0.223629\n",
       "...              ...          ...    ...       ...\n",
       "12    27   16.256560  1099.708455    343  0.186589\n",
       "      28    8.768421  1147.336842    285  0.203509\n",
       "      29   29.580205  1154.105802    293  0.197952\n",
       "      30   16.730435  1120.773913    345  0.176812\n",
       "      31    9.776923  1159.700000    260  0.234615\n",
       "\n",
       "[365 rows x 4 columns]"
      ]
     },
     "execution_count": 98,
     "metadata": {},
     "output_type": "execute_result"
    }
   ],
   "source": [
    "# Подготовим данные\n",
    "def carrier(row):\n",
    "    k=0\n",
    "    for i in row:\n",
    "        if i in ['HA', 'US', 'OO', 'AA', 'AS', 'MQ', 'DL', 'B6']:\n",
    "            k+=1\n",
    "    return k/len(row)\n",
    "\n",
    "df_11 = df[df.origin=='EWR'].groupby(['month', 'day'], as_index=True)[['dep_delay', 'distance']].mean()\n",
    "df_11['count'] = df[df.origin=='EWR'].groupby(['month', 'day'], as_index=True)[['dep_delay']].count()\n",
    "df_11['carrier'] = df[df.origin=='EWR'].groupby(['month', 'day'], as_index=True)['carrier'].apply(carrier)\n",
    "df_11"
   ]
  },
  {
   "attachments": {},
   "cell_type": "markdown",
   "id": "e8d2fa39",
   "metadata": {},
   "source": [
    "Последний день (31 декабря 2013 года) оставим для прогноза. Остальные данные перемешаем: возьмем случайные 300 наблюдений для построения модели, а на остальных (64 дня) проверим качество работы нашей модели."
   ]
  },
  {
   "cell_type": "code",
   "execution_count": null,
   "id": "5b846d66",
   "metadata": {},
   "outputs": [],
   "source": [
    "from sklearn.utils import shuffle\n",
    "# Перемешиваем данные, исключая 31 декабря\n",
    "df_shuffle = shuffle(df_11.iloc[:-1])\n",
    "\n",
    "X_train, X_test, X_val = (df_shuffle.reset_index(drop=True)[['distance', 'count', 'carrier']].iloc[0:300], \n",
    "                         df_shuffle.reset_index(drop=True)[['distance', 'count', 'carrier']].iloc[300:],\n",
    "                         df_11.reset_index(drop=True)[['distance', 'count', 'carrier']].iloc[364])\n",
    "\n",
    "y_train, y_test, y_val = (df_shuffle.reset_index(drop=True)['dep_delay'].iloc[0:300], \n",
    "                         df_shuffle.reset_index(drop=True)['dep_delay'].iloc[300:],\n",
    "                         df_11.reset_index(drop=True)['dep_delay'].iloc[364])"
   ]
  },
  {
   "attachments": {},
   "cell_type": "markdown",
   "id": "0c96da6d",
   "metadata": {},
   "source": [
    "Применим алгоритм случайного леса и в качестве метрики используем MAPE."
   ]
  },
  {
   "attachments": {},
   "cell_type": "markdown",
   "id": "b98bfe85",
   "metadata": {},
   "source": [
    "Построим модель с глубиной деревьев 10:"
   ]
  },
  {
   "cell_type": "code",
   "execution_count": null,
   "id": "f1c95c74",
   "metadata": {},
   "outputs": [
    {
     "name": "stdout",
     "output_type": "stream",
     "text": [
      "MAPE на train:  160.71%\n",
      "MAPE на test:   227.49%\n"
     ]
    }
   ],
   "source": [
    "from sklearn.ensemble import RandomForestRegressor\n",
    "from sklearn.metrics import mean_absolute_percentage_error\n",
    "# Построим модель\n",
    "rf = RandomForestRegressor(max_depth=10)\n",
    "rf.fit(X_train, y_train)\n",
    "# Оценим точность модели\n",
    "mape_train = mean_absolute_percentage_error(y_train, rf.predict(X_train))\n",
    "mape_test = mean_absolute_percentage_error(y_test, rf.predict(X_test))\n",
    "print(f'MAPE на train:  {round(mape_train*100, 2)}%')\n",
    "print(f'MAPE на test:   {round(mape_test*100, 2)}%')"
   ]
  },
  {
   "attachments": {},
   "cell_type": "markdown",
   "id": "8f0b27af",
   "metadata": {},
   "source": [
    "Точность модели: в среднем наш прогноз отличается от истинного примерно на 200% на тестовой выборке."
   ]
  },
  {
   "cell_type": "code",
   "execution_count": null,
   "id": "396cbb46",
   "metadata": {},
   "outputs": [
    {
     "name": "stderr",
     "output_type": "stream",
     "text": [
      "C:\\Users\\RobotComp.ru\\miniconda3\\lib\\site-packages\\sklearn\\base.py:439: UserWarning: X does not have valid feature names, but RandomForestRegressor was fitted with feature names\n",
      "  warnings.warn(\n"
     ]
    },
    {
     "data": {
      "text/plain": [
       "array([30.48869788])"
      ]
     },
     "execution_count": 101,
     "metadata": {},
     "output_type": "execute_result"
    }
   ],
   "source": [
    "# Прогноз модели\n",
    "rf.predict([X_val])"
   ]
  },
  {
   "cell_type": "code",
   "execution_count": null,
   "id": "97074eba",
   "metadata": {},
   "outputs": [
    {
     "data": {
      "text/plain": [
       "9.776923076923078"
      ]
     },
     "execution_count": 102,
     "metadata": {},
     "output_type": "execute_result"
    }
   ],
   "source": [
    "# Фактическое значение\n",
    "y_val"
   ]
  },
  {
   "attachments": {},
   "cell_type": "markdown",
   "id": "b003e8e0",
   "metadata": {},
   "source": [
    "Наш прогноз на 31 декабря составил 30.5 минуты, в то время как фактическое значение составляет 9.8 минут.\n",
    "\n",
    "Качество модели не очень хорошее."
   ]
  },
  {
   "cell_type": "markdown",
   "id": "96fced02",
   "metadata": {},
   "source": [
    "## Для аэропорта JFK "
   ]
  },
  {
   "cell_type": "code",
   "execution_count": null,
   "id": "473682cf",
   "metadata": {},
   "outputs": [
    {
     "data": {
      "text/html": [
       "<div>\n",
       "<style scoped>\n",
       "    .dataframe tbody tr th:only-of-type {\n",
       "        vertical-align: middle;\n",
       "    }\n",
       "\n",
       "    .dataframe tbody tr th {\n",
       "        vertical-align: top;\n",
       "    }\n",
       "\n",
       "    .dataframe thead th {\n",
       "        text-align: right;\n",
       "    }\n",
       "</style>\n",
       "<table border=\"1\" class=\"dataframe\">\n",
       "  <thead>\n",
       "    <tr style=\"text-align: right;\">\n",
       "      <th></th>\n",
       "      <th></th>\n",
       "      <th>dep_delay</th>\n",
       "      <th>distance</th>\n",
       "      <th>count</th>\n",
       "      <th>carrier</th>\n",
       "    </tr>\n",
       "    <tr>\n",
       "      <th>month</th>\n",
       "      <th>day</th>\n",
       "      <th></th>\n",
       "      <th></th>\n",
       "      <th></th>\n",
       "      <th></th>\n",
       "    </tr>\n",
       "  </thead>\n",
       "  <tbody>\n",
       "    <tr>\n",
       "      <th rowspan=\"5\" valign=\"top\">1</th>\n",
       "      <th>1</th>\n",
       "      <td>12.061017</td>\n",
       "      <td>1297.142373</td>\n",
       "      <td>295</td>\n",
       "      <td>0.823729</td>\n",
       "    </tr>\n",
       "    <tr>\n",
       "      <th>2</th>\n",
       "      <td>8.217666</td>\n",
       "      <td>1281.350158</td>\n",
       "      <td>317</td>\n",
       "      <td>0.791798</td>\n",
       "    </tr>\n",
       "    <tr>\n",
       "      <th>3</th>\n",
       "      <td>13.463722</td>\n",
       "      <td>1263.536278</td>\n",
       "      <td>317</td>\n",
       "      <td>0.769716</td>\n",
       "    </tr>\n",
       "    <tr>\n",
       "      <th>4</th>\n",
       "      <td>10.490506</td>\n",
       "      <td>1264.560127</td>\n",
       "      <td>316</td>\n",
       "      <td>0.765823</td>\n",
       "    </tr>\n",
       "    <tr>\n",
       "      <th>5</th>\n",
       "      <td>7.730000</td>\n",
       "      <td>1228.810000</td>\n",
       "      <td>300</td>\n",
       "      <td>0.770000</td>\n",
       "    </tr>\n",
       "    <tr>\n",
       "      <th>...</th>\n",
       "      <th>...</th>\n",
       "      <td>...</td>\n",
       "      <td>...</td>\n",
       "      <td>...</td>\n",
       "      <td>...</td>\n",
       "    </tr>\n",
       "    <tr>\n",
       "      <th rowspan=\"5\" valign=\"top\">12</th>\n",
       "      <th>27</th>\n",
       "      <td>9.378549</td>\n",
       "      <td>1326.820189</td>\n",
       "      <td>317</td>\n",
       "      <td>0.813880</td>\n",
       "    </tr>\n",
       "    <tr>\n",
       "      <th>28</th>\n",
       "      <td>11.036789</td>\n",
       "      <td>1298.204013</td>\n",
       "      <td>299</td>\n",
       "      <td>0.819398</td>\n",
       "    </tr>\n",
       "    <tr>\n",
       "      <th>29</th>\n",
       "      <td>25.757282</td>\n",
       "      <td>1327.880259</td>\n",
       "      <td>309</td>\n",
       "      <td>0.815534</td>\n",
       "    </tr>\n",
       "    <tr>\n",
       "      <th>30</th>\n",
       "      <td>9.638710</td>\n",
       "      <td>1336.222581</td>\n",
       "      <td>310</td>\n",
       "      <td>0.819355</td>\n",
       "    </tr>\n",
       "    <tr>\n",
       "      <th>31</th>\n",
       "      <td>7.598566</td>\n",
       "      <td>1297.150538</td>\n",
       "      <td>279</td>\n",
       "      <td>0.838710</td>\n",
       "    </tr>\n",
       "  </tbody>\n",
       "</table>\n",
       "<p>365 rows × 4 columns</p>\n",
       "</div>"
      ],
      "text/plain": [
       "           dep_delay     distance  count   carrier\n",
       "month day                                         \n",
       "1     1    12.061017  1297.142373    295  0.823729\n",
       "      2     8.217666  1281.350158    317  0.791798\n",
       "      3    13.463722  1263.536278    317  0.769716\n",
       "      4    10.490506  1264.560127    316  0.765823\n",
       "      5     7.730000  1228.810000    300  0.770000\n",
       "...              ...          ...    ...       ...\n",
       "12    27    9.378549  1326.820189    317  0.813880\n",
       "      28   11.036789  1298.204013    299  0.819398\n",
       "      29   25.757282  1327.880259    309  0.815534\n",
       "      30    9.638710  1336.222581    310  0.819355\n",
       "      31    7.598566  1297.150538    279  0.838710\n",
       "\n",
       "[365 rows x 4 columns]"
      ]
     },
     "execution_count": 103,
     "metadata": {},
     "output_type": "execute_result"
    }
   ],
   "source": [
    "# Подготовим данные\n",
    "df_11 = df[df.origin=='JFK'].groupby(['month', 'day'], as_index=True)[['dep_delay', 'distance']].mean()\n",
    "df_11['count'] = df[df.origin=='JFK'].groupby(['month', 'day'], as_index=True)[['dep_delay']].count()\n",
    "df_11['carrier'] = df[df.origin=='JFK'].groupby(['month', 'day'], as_index=True)['carrier'].apply(carrier)\n",
    "df_11"
   ]
  },
  {
   "cell_type": "code",
   "execution_count": null,
   "id": "e2d63982",
   "metadata": {},
   "outputs": [
    {
     "name": "stdout",
     "output_type": "stream",
     "text": [
      "MAPE на train:  684.95%\n",
      "MAPE на test:   167.3%\n"
     ]
    }
   ],
   "source": [
    "# Перемешиваем данные, исключая 31 декабря\n",
    "df_shuffle = shuffle(df_11.iloc[:-1])\n",
    "\n",
    "X_train, X_test, X_val = (df_shuffle.reset_index(drop=True)[['distance', 'count', 'carrier']].iloc[0:300], \n",
    "                         df_shuffle.reset_index(drop=True)[['distance', 'count', 'carrier']].iloc[300:],\n",
    "                         df_11.reset_index(drop=True)[['distance', 'count', 'carrier']].iloc[364])\n",
    "\n",
    "y_train, y_test, y_val = (df_shuffle.reset_index(drop=True)['dep_delay'].iloc[0:300], \n",
    "                         df_shuffle.reset_index(drop=True)['dep_delay'].iloc[300:],\n",
    "                         df_11.reset_index(drop=True)['dep_delay'].iloc[364])\n",
    "# Построим модель\n",
    "rf = RandomForestRegressor(max_depth=10)\n",
    "rf.fit(X_train, y_train)\n",
    "# Оценим точность модели\n",
    "mape_train = mean_absolute_percentage_error(y_train, rf.predict(X_train))\n",
    "mape_test = mean_absolute_percentage_error(y_test, rf.predict(X_test))\n",
    "print(f'MAPE на train:  {round(mape_train*100, 2)}%')\n",
    "print(f'MAPE на test:   {round(mape_test*100, 2)}%')"
   ]
  },
  {
   "cell_type": "code",
   "execution_count": null,
   "id": "02235cb1",
   "metadata": {},
   "outputs": [
    {
     "name": "stderr",
     "output_type": "stream",
     "text": [
      "C:\\Users\\RobotComp.ru\\miniconda3\\lib\\site-packages\\sklearn\\base.py:439: UserWarning: X does not have valid feature names, but RandomForestRegressor was fitted with feature names\n",
      "  warnings.warn(\n"
     ]
    },
    {
     "data": {
      "text/plain": [
       "array([13.19758597])"
      ]
     },
     "execution_count": 105,
     "metadata": {},
     "output_type": "execute_result"
    }
   ],
   "source": [
    "# Прогноз модели\n",
    "rf.predict([X_val])"
   ]
  },
  {
   "cell_type": "code",
   "execution_count": null,
   "id": "9fd90718",
   "metadata": {},
   "outputs": [
    {
     "data": {
      "text/plain": [
       "7.598566308243727"
      ]
     },
     "execution_count": 106,
     "metadata": {},
     "output_type": "execute_result"
    }
   ],
   "source": [
    "# Фактическое значение\n",
    "y_val"
   ]
  },
  {
   "attachments": {},
   "cell_type": "markdown",
   "id": "23483626",
   "metadata": {},
   "source": [
    "Построение модели для этого аэропорта аналогично предыдущему. Для этого аэропорта качество модели чуть лучше. Примерно 170% MAPE. Прогноз на 31 декабря 13.2 минуты, в то время как фактическое время задержки вылета составляет 7.6 минут."
   ]
  },
  {
   "cell_type": "markdown",
   "id": "83121274",
   "metadata": {},
   "source": [
    "## Для аэропорта LGA"
   ]
  },
  {
   "cell_type": "code",
   "execution_count": null,
   "id": "4012f81b",
   "metadata": {},
   "outputs": [
    {
     "data": {
      "text/html": [
       "<div>\n",
       "<style scoped>\n",
       "    .dataframe tbody tr th:only-of-type {\n",
       "        vertical-align: middle;\n",
       "    }\n",
       "\n",
       "    .dataframe tbody tr th {\n",
       "        vertical-align: top;\n",
       "    }\n",
       "\n",
       "    .dataframe thead th {\n",
       "        text-align: right;\n",
       "    }\n",
       "</style>\n",
       "<table border=\"1\" class=\"dataframe\">\n",
       "  <thead>\n",
       "    <tr style=\"text-align: right;\">\n",
       "      <th></th>\n",
       "      <th></th>\n",
       "      <th>dep_delay</th>\n",
       "      <th>distance</th>\n",
       "      <th>count</th>\n",
       "      <th>carrier</th>\n",
       "    </tr>\n",
       "    <tr>\n",
       "      <th>month</th>\n",
       "      <th>day</th>\n",
       "      <th></th>\n",
       "      <th></th>\n",
       "      <th></th>\n",
       "      <th></th>\n",
       "    </tr>\n",
       "  </thead>\n",
       "  <tbody>\n",
       "    <tr>\n",
       "      <th rowspan=\"5\" valign=\"top\">1</th>\n",
       "      <th>1</th>\n",
       "      <td>3.203390</td>\n",
       "      <td>843.669492</td>\n",
       "      <td>236</td>\n",
       "      <td>0.745763</td>\n",
       "    </tr>\n",
       "    <tr>\n",
       "      <th>2</th>\n",
       "      <td>5.633333</td>\n",
       "      <td>841.951852</td>\n",
       "      <td>270</td>\n",
       "      <td>0.774074</td>\n",
       "    </tr>\n",
       "    <tr>\n",
       "      <th>3</th>\n",
       "      <td>10.825397</td>\n",
       "      <td>823.321429</td>\n",
       "      <td>252</td>\n",
       "      <td>0.746032</td>\n",
       "    </tr>\n",
       "    <tr>\n",
       "      <th>4</th>\n",
       "      <td>2.929412</td>\n",
       "      <td>827.827451</td>\n",
       "      <td>255</td>\n",
       "      <td>0.752941</td>\n",
       "    </tr>\n",
       "    <tr>\n",
       "      <th>5</th>\n",
       "      <td>2.450000</td>\n",
       "      <td>839.172222</td>\n",
       "      <td>180</td>\n",
       "      <td>0.766667</td>\n",
       "    </tr>\n",
       "    <tr>\n",
       "      <th>...</th>\n",
       "      <th>...</th>\n",
       "      <td>...</td>\n",
       "      <td>...</td>\n",
       "      <td>...</td>\n",
       "      <td>...</td>\n",
       "    </tr>\n",
       "    <tr>\n",
       "      <th rowspan=\"5\" valign=\"top\">12</th>\n",
       "      <th>27</th>\n",
       "      <td>6.581395</td>\n",
       "      <td>823.262458</td>\n",
       "      <td>301</td>\n",
       "      <td>0.691030</td>\n",
       "    </tr>\n",
       "    <tr>\n",
       "      <th>28</th>\n",
       "      <td>3.013100</td>\n",
       "      <td>866.799127</td>\n",
       "      <td>229</td>\n",
       "      <td>0.689956</td>\n",
       "    </tr>\n",
       "    <tr>\n",
       "      <th>29</th>\n",
       "      <td>9.650376</td>\n",
       "      <td>834.026316</td>\n",
       "      <td>266</td>\n",
       "      <td>0.710526</td>\n",
       "    </tr>\n",
       "    <tr>\n",
       "      <th>30</th>\n",
       "      <td>4.855705</td>\n",
       "      <td>830.718121</td>\n",
       "      <td>298</td>\n",
       "      <td>0.681208</td>\n",
       "    </tr>\n",
       "    <tr>\n",
       "      <th>31</th>\n",
       "      <td>2.631818</td>\n",
       "      <td>842.740909</td>\n",
       "      <td>220</td>\n",
       "      <td>0.709091</td>\n",
       "    </tr>\n",
       "  </tbody>\n",
       "</table>\n",
       "<p>365 rows × 4 columns</p>\n",
       "</div>"
      ],
      "text/plain": [
       "           dep_delay    distance  count   carrier\n",
       "month day                                        \n",
       "1     1     3.203390  843.669492    236  0.745763\n",
       "      2     5.633333  841.951852    270  0.774074\n",
       "      3    10.825397  823.321429    252  0.746032\n",
       "      4     2.929412  827.827451    255  0.752941\n",
       "      5     2.450000  839.172222    180  0.766667\n",
       "...              ...         ...    ...       ...\n",
       "12    27    6.581395  823.262458    301  0.691030\n",
       "      28    3.013100  866.799127    229  0.689956\n",
       "      29    9.650376  834.026316    266  0.710526\n",
       "      30    4.855705  830.718121    298  0.681208\n",
       "      31    2.631818  842.740909    220  0.709091\n",
       "\n",
       "[365 rows x 4 columns]"
      ]
     },
     "execution_count": 107,
     "metadata": {},
     "output_type": "execute_result"
    }
   ],
   "source": [
    "# Подготовим данные\n",
    "df_11 = df[df.origin=='LGA'].groupby(['month', 'day'], as_index=True)[['dep_delay', 'distance']].mean()\n",
    "df_11['count'] = df[df.origin=='LGA'].groupby(['month', 'day'], as_index=True)[['dep_delay']].count()\n",
    "df_11['carrier'] = df[df.origin=='LGA'].groupby(['month', 'day'], as_index=True)['carrier'].apply(carrier)\n",
    "df_11"
   ]
  },
  {
   "cell_type": "code",
   "execution_count": null,
   "id": "b29c6824",
   "metadata": {},
   "outputs": [
    {
     "name": "stdout",
     "output_type": "stream",
     "text": [
      "MAPE на train:  214.17%\n",
      "MAPE на test:   305.56%\n"
     ]
    }
   ],
   "source": [
    "# Перемешиваем данные, исключая 31 декабря\n",
    "df_shuffle = shuffle(df_11.iloc[:-1])\n",
    "\n",
    "X_train, X_test, X_val = (df_shuffle.reset_index(drop=True)[['distance', 'count', 'carrier']].iloc[0:300], \n",
    "                         df_shuffle.reset_index(drop=True)[['distance', 'count', 'carrier']].iloc[300:],\n",
    "                         df_11.reset_index(drop=True)[['distance', 'count', 'carrier']].iloc[364])\n",
    "\n",
    "y_train, y_test, y_val = (df_shuffle.reset_index(drop=True)['dep_delay'].iloc[0:300], \n",
    "                         df_shuffle.reset_index(drop=True)['dep_delay'].iloc[300:],\n",
    "                         df_11.reset_index(drop=True)['dep_delay'].iloc[364])\n",
    "# Построим модель\n",
    "rf = RandomForestRegressor(max_depth=10)\n",
    "rf.fit(X_train, y_train)\n",
    "# Оценим точность модели\n",
    "mape_train = mean_absolute_percentage_error(y_train, rf.predict(X_train))\n",
    "mape_test = mean_absolute_percentage_error(y_test, rf.predict(X_test))\n",
    "print(f'MAPE на train:  {round(mape_train*100, 2)}%')\n",
    "print(f'MAPE на test:   {round(mape_test*100, 2)}%')"
   ]
  },
  {
   "cell_type": "code",
   "execution_count": null,
   "id": "6faa2559",
   "metadata": {},
   "outputs": [
    {
     "name": "stderr",
     "output_type": "stream",
     "text": [
      "C:\\Users\\RobotComp.ru\\miniconda3\\lib\\site-packages\\sklearn\\base.py:439: UserWarning: X does not have valid feature names, but RandomForestRegressor was fitted with feature names\n",
      "  warnings.warn(\n"
     ]
    },
    {
     "data": {
      "text/plain": [
       "array([5.7326246])"
      ]
     },
     "execution_count": 109,
     "metadata": {},
     "output_type": "execute_result"
    }
   ],
   "source": [
    "# Прогноз модели\n",
    "rf.predict([X_val])"
   ]
  },
  {
   "cell_type": "code",
   "execution_count": null,
   "id": "82b8e67a",
   "metadata": {},
   "outputs": [
    {
     "data": {
      "text/plain": [
       "2.631818181818182"
      ]
     },
     "execution_count": 110,
     "metadata": {},
     "output_type": "execute_result"
    }
   ],
   "source": [
    "# Фактическое значение\n",
    "y_val"
   ]
  },
  {
   "attachments": {},
   "cell_type": "markdown",
   "id": "e47b0c69",
   "metadata": {},
   "source": [
    "Построение модели для этого аэропорта аналогично предыдущему. Для этого аэропорта качество модели примерно 300% MAPE на тестовой выборке. Прогноз на 31 декабря составляет 5.7 минуты, в то время как файктическое время задержки - 2.6 минуты."
   ]
  },
  {
   "cell_type": "markdown",
   "id": "02f7362a",
   "metadata": {},
   "source": [
    "# Задание 12"
   ]
  },
  {
   "cell_type": "markdown",
   "id": "88ba7c07",
   "metadata": {},
   "source": [
    "12. Приведите еще хотя бы один интересный факт из датасета, раскрывающий или характеризующий особенности в возникновении/распределении задержек авиарейсов."
   ]
  },
  {
   "attachments": {},
   "cell_type": "markdown",
   "id": "6c76fe56",
   "metadata": {},
   "source": [
    "Посмотрим на различие в среднем времени задержки вылета в зависимости от дистанции перелета.\n",
    "\n",
    "Сгруппируем короткие (не больше 1000 миль) и длинные (больше 1000 миль) перелеты. Отобразим результат на графике."
   ]
  },
  {
   "cell_type": "code",
   "execution_count": null,
   "id": "f5fcf41a",
   "metadata": {},
   "outputs": [
    {
     "data": {
      "image/png": "[encoded data removed]",
      "text/plain": [
       "<Figure size 960x480 with 1 Axes>"
      ]
     },
     "metadata": {},
     "output_type": "display_data"
    }
   ],
   "source": [
    "df[df.distance>1000]['dep_delay'].hist(bins=100, range = (-100, 100), alpha = 0.5, label = '>1000')\n",
    "df[df.distance<=1000]['dep_delay'].hist(bins=100, range = (-100, 100), alpha = 0.5, label = '<=1000')\n",
    "plt.legend(loc='upper right')\n",
    "plt.xlabel('Delay (minutes)')\n",
    "plt.ylabel('Count')\n",
    "plt.title('Delay Distribution in Departure ')\n",
    "plt.show()"
   ]
  },
  {
   "cell_type": "code",
   "execution_count": null,
   "id": "9d03fac8",
   "metadata": {},
   "outputs": [
    {
     "name": "stdout",
     "output_type": "stream",
     "text": [
      "11.45256714933127\n",
      "13.42923644807606\n"
     ]
    }
   ],
   "source": [
    "# Средние значения наборов\n",
    "print(df[df.distance>1000]['dep_delay'].mean())\n",
    "print(df[df.distance<=1000]['dep_delay'].mean())"
   ]
  },
  {
   "cell_type": "code",
   "execution_count": null,
   "id": "1ff8a20e",
   "metadata": {},
   "outputs": [
    {
     "data": {
      "text/plain": [
       "Ttest_indResult(statistic=-14.023072532707856, pvalue=1.1604010653744815e-44)"
      ]
     },
     "execution_count": 165,
     "metadata": {},
     "output_type": "execute_result"
    }
   ],
   "source": [
    "stats.ttest_ind(df[df.distance>1000]['dep_delay'], df[df.distance<1000]['dep_delay'])"
   ]
  },
  {
   "attachments": {},
   "cell_type": "markdown",
   "id": "aefd4616",
   "metadata": {},
   "source": [
    "Выборочное среднее время задержки у коротких перелетов больше. При этом эта разница статистически значима (p-value < 0.05)."
   ]
  }
 ],
 "metadata": {
  "kernelspec": {
   "display_name": "Python 3 (ipykernel)",
   "language": "python",
   "name": "python3"
  },
  "language_info": {
   "codemirror_mode": {
    "name": "ipython",
    "version": 3
   },
   "file_extension": ".py",
   "mimetype": "text/x-python",
   "name": "python",
   "nbconvert_exporter": "python",
   "pygments_lexer": "ipython3",
   "version": "3.10.9"
  }
 },
 "nbformat": 4,
 "nbformat_minor": 5
}
